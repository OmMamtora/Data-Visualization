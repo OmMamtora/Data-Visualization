{
 "cells": [
  {
   "cell_type": "code",
   "execution_count": 2,
   "metadata": {},
   "outputs": [],
   "source": [
    "import pandas as pd"
   ]
  },
  {
   "cell_type": "markdown",
   "metadata": {},
   "source": [
    "## Merging"
   ]
  },
  {
   "cell_type": "code",
   "execution_count": 6,
   "metadata": {},
   "outputs": [
    {
     "name": "stdout",
     "output_type": "stream",
     "text": [
      "Inner Joins..\n",
      "   CustomerID     Name  OrderAmount\n",
      "0           1   Suresh          250\n",
      "1           2  Kalpesh          350\n",
      "\n",
      "Outer Joins..\n",
      "   CustomerID     Name  OrderAmount\n",
      "0           1   Suresh        250.0\n",
      "1           2  Kalpesh        350.0\n",
      "2           3   Ganesh          NaN\n",
      "3           4      NaN        450.0\n",
      "\n",
      "Left Joins..\n",
      "   CustomerID     Name  OrderAmount\n",
      "0           1   Suresh        250.0\n",
      "1           2  Kalpesh        350.0\n",
      "2           3   Ganesh          NaN\n",
      "\n",
      "Right Joins..\n",
      "   CustomerID     Name  OrderAmount\n",
      "0           1   Suresh          250\n",
      "1           2  Kalpesh          350\n",
      "2           4      NaN          450\n",
      "\n",
      "Cross Joins..\n",
      "   CustomerID_x     Name  CustomerID_y  OrderAmount\n",
      "0             1   Suresh             1          250\n",
      "1             1   Suresh             2          350\n",
      "2             1   Suresh             4          450\n",
      "3             2  Kalpesh             1          250\n",
      "4             2  Kalpesh             2          350\n",
      "5             2  Kalpesh             4          450\n",
      "6             3   Ganesh             1          250\n",
      "7             3   Ganesh             2          350\n",
      "8             3   Ganesh             4          450\n",
      "\n"
     ]
    }
   ],
   "source": [
    "df_customers = pd.DataFrame({\n",
    "    \"CustomerID\" : [1,2,3],\n",
    "    \"Name\" : ['Suresh','Kalpesh','Ganesh']\n",
    "})\n",
    "\n",
    "df_Order = pd.DataFrame({\n",
    "    \"CustomerID\" : [1,2,4],\n",
    "    \"OrderAmount\" : [250,350,450]\n",
    "})\n",
    "\n",
    "df_merge_innerJoin = pd.merge(df_customers,df_Order,on=\"CustomerID\", how=\"inner\")\n",
    "print(\"Inner Joins..\")\n",
    "print(df_merge_innerJoin)\n",
    "print()\n",
    "\n",
    "df_merge_outerJoin = pd.merge(df_customers,df_Order,on=\"CustomerID\",how=\"outer\")\n",
    "print(\"Outer Joins..\")\n",
    "print(df_merge_outerJoin)\n",
    "print()\n",
    "\n",
    "df_merge_leftJoin = pd.merge(df_customers,df_Order,on=\"CustomerID\",how=\"left\")\n",
    "print(\"Left Joins..\")\n",
    "print(df_merge_leftJoin)\n",
    "print()\n",
    "\n",
    "df_merge_rightJoin = pd.merge(df_customers,df_Order,on=\"CustomerID\",how=\"right\")\n",
    "print(\"Right Joins..\")\n",
    "print(df_merge_rightJoin)\n",
    "print()\n",
    "\n",
    "df_merge_crossJoin = pd.merge(df_customers,df_Order,how=\"cross\")\n",
    "print(\"Cross Joins..\")\n",
    "print(df_merge_crossJoin)\n",
    "print()"
   ]
  },
  {
   "cell_type": "markdown",
   "metadata": {},
   "source": [
    "## Joining(Concate)"
   ]
  },
  {
   "cell_type": "code",
   "execution_count": 8,
   "metadata": {},
   "outputs": [
    {
     "name": "stdout",
     "output_type": "stream",
     "text": [
      "   0      1  2        3\n",
      "0  1  Gopal  3  Baburao\n",
      "1  2    Das  4    Aapte\n",
      "\n",
      "   CustomerID     Name\n",
      "0           1    Gopal\n",
      "1           2      Das\n",
      "2           3  Baburao\n",
      "3           4    Aapte\n",
      "\n",
      "Ignore Index False \n",
      "\n",
      "   CustomerID   Name  CustomerID     Name\n",
      "0           1  Gopal           3  Baburao\n",
      "1           2    Das           4    Aapte\n",
      "\n",
      "   CustomerID     Name\n",
      "0           1    Gopal\n",
      "1           2      Das\n",
      "0           3  Baburao\n",
      "1           4    Aapte\n",
      "\n"
     ]
    }
   ],
   "source": [
    "df_region1 = pd.DataFrame({\n",
    "    \"CustomerID\" : [1,2],\n",
    "    \"Name\" : ['Gopal','Das']\n",
    "})\n",
    "\n",
    "df_region2 = pd.DataFrame({\n",
    "    \"CustomerID\" : [3,4],\n",
    "    \"Name\" : ['Baburao','Aapte']\n",
    "})\n",
    "\n",
    "\n",
    "df_Concate = pd.concat([df_region1,df_region2],axis=1,ignore_index=True)\n",
    "print(df_Concate)\n",
    "print()\n",
    "\n",
    "df_Concate2 = pd.concat([df_region1,df_region2],axis=0,ignore_index=True)\n",
    "print(df_Concate2)\n",
    "print()\n",
    "\n",
    "print(\"Ignore Index False \\n\")\n",
    "\n",
    "df_Concate3 = pd.concat([df_region1,df_region2],axis=1,ignore_index=False)\n",
    "print(df_Concate3)\n",
    "print()\n",
    "\n",
    "df_Concate4 = pd.concat([df_region1,df_region2],axis=0,ignore_index=False)\n",
    "print(df_Concate4)\n",
    "print()\n"
   ]
  },
  {
   "cell_type": "markdown",
   "metadata": {},
   "source": [
    "Create Two DataFrame 1) Customer profile and 2) Transaction History.\n",
    "\n",
    "question1 : combain all customers using CustomerID. \n",
    "\n",
    "Question2 : Create new customer record using concatenate and save"
   ]
  },
  {
   "cell_type": "code",
   "execution_count": 12,
   "metadata": {},
   "outputs": [
    {
     "name": "stdout",
     "output_type": "stream",
     "text": [
      "   CustomerID    Name  Transaction\n",
      "0           1    Shiv        300.0\n",
      "1           2     Ram        450.0\n",
      "2           3     Raj        500.0\n",
      "3           4   Murli        150.0\n",
      "4           5  Satyam          NaN\n",
      "5           6     NaN        780.0\n",
      "\n",
      "   CustomerID    Name  Transaction  CoustomerID\n",
      "0         1.0    Shiv        300.0          NaN\n",
      "1         2.0     Ram        450.0          NaN\n",
      "2         3.0     Raj        500.0          NaN\n",
      "3         4.0   Murli        150.0          NaN\n",
      "4         5.0  Satyam          NaN          NaN\n",
      "5         6.0     NaN        780.0          NaN\n",
      "6         NaN  Krunal          NaN          7.0\n"
     ]
    }
   ],
   "source": [
    "\n",
    "# question1 : combain all customers using CustomerID. \n",
    "\n",
    "customer_profile = pd.DataFrame({\n",
    "    \"CustomerID\" : [1,2,3,4,5],\n",
    "    \"Name\" : ['Shiv','Ram','Raj','Murli','Satyam']\n",
    "})\n",
    "\n",
    "transaction_history = pd.DataFrame({\n",
    "    \"CustomerID\" :[1,2,3,4,6],\n",
    "    \"Transaction\" : [300,450,500,150,780]\n",
    "})\n",
    "\n",
    "combain_customers = pd.merge(customer_profile,transaction_history,on=\"CustomerID\",how=\"outer\")\n",
    "print(combain_customers)\n",
    "print()\n",
    "\n",
    "# Create new customer record using concatenate and save\n",
    "\n",
    "new_customer = pd.DataFrame({\n",
    "    \"CoustomerID\" : [7],\n",
    "    \"Name\" : ['Krunal']\n",
    "})\n",
    "\n",
    "new_record = pd.concat([combain_customers,new_customer],axis=0,ignore_index=True)\n",
    "print(new_record)\n"
   ]
  },
  {
   "cell_type": "code",
   "execution_count": null,
   "metadata": {},
   "outputs": [],
   "source": []
  }
 ],
 "metadata": {
  "kernelspec": {
   "display_name": "Python 3",
   "language": "python",
   "name": "python3"
  },
  "language_info": {
   "codemirror_mode": {
    "name": "ipython",
    "version": 3
   },
   "file_extension": ".py",
   "mimetype": "text/x-python",
   "name": "python",
   "nbconvert_exporter": "python",
   "pygments_lexer": "ipython3",
   "version": "3.8.10"
  }
 },
 "nbformat": 4,
 "nbformat_minor": 2
}
