{
 "cells": [
  {
   "cell_type": "markdown",
   "metadata": {},
   "source": [
    "#### Interpolation is used for fill estimate value at place of NaN and it is work only on Numeric Value"
   ]
  },
  {
   "cell_type": "code",
   "execution_count": 2,
   "metadata": {},
   "outputs": [],
   "source": [
    "import pandas as pd"
   ]
  },
  {
   "cell_type": "code",
   "execution_count": null,
   "metadata": {},
   "outputs": [
    {
     "name": "stdout",
     "output_type": "stream",
     "text": [
      "Before interpolation..\n",
      "   Time  Value\n",
      "0     1   10.0\n",
      "1     2    NaN\n",
      "2     3   30.0\n",
      "3     4    NaN\n",
      "4     5   50.0\n",
      "\n",
      "After Interpolation..\n",
      "Polynomial Method..\n",
      "   Time  Value\n",
      "0     1   10.0\n",
      "1     2   20.0\n",
      "2     3   30.0\n",
      "3     4   40.0\n",
      "4     5   50.0\n"
     ]
    }
   ],
   "source": [
    "data = {\n",
    "    \"Time\" : [1,2,3,4,5],\n",
    "    \"Value\" : [10,None,30,None,50]\n",
    "}\n",
    "\n",
    "df = pd.DataFrame(data)\n",
    "print(\"Before interpolation..\")\n",
    "print(df)\n",
    "print()\n",
    "\n",
    "print(\"After Interpolation..\")\n",
    "# print(\"Linear Method..\")\n",
    "# df[\"Value\"] = df[\"Value\"].interpolate(method=\"linear\")\n",
    "# print(df)\n",
    "\n",
    "print(\"Polynomial Method..\")\n",
    "df[\"Value\"] = df[\"Value\"].interpolate(method=\"polynomial\",order=1)\n",
    "print(df)\n",
    "\n",
    "\n",
    "\n",
    "\n",
    "\"\"\" \n",
    "When interpolation use :\n",
    "\n",
    "1) Time series data   Ex: Stock Market Data \n",
    "2) Numeric Data with trends\n",
    "3) Avoid Dropping rows\n",
    "\n",
    "\"\"\"\n",
    "\n",
    "\n",
    "\"\"\"\n",
    "Advantages : \n",
    "\n",
    "1) Structured Dataset\n",
    "2) Fill estimated value at blank space\n",
    "\n",
    "\n",
    "Disadvantages: \n",
    "\n",
    "1) we can't able to work on categorical data Ex: Name , Id\n",
    "2) It assumes pridictable pattern, Which might not exist everytime\n",
    "\"\"\""
   ]
  },
  {
   "cell_type": "code",
   "execution_count": null,
   "metadata": {},
   "outputs": [],
   "source": []
  }
 ],
 "metadata": {
  "kernelspec": {
   "display_name": "Python 3",
   "language": "python",
   "name": "python3"
  },
  "language_info": {
   "codemirror_mode": {
    "name": "ipython",
    "version": 3
   },
   "file_extension": ".py",
   "mimetype": "text/x-python",
   "name": "python",
   "nbconvert_exporter": "python",
   "pygments_lexer": "ipython3",
   "version": "3.8.10"
  }
 },
 "nbformat": 4,
 "nbformat_minor": 2
}
