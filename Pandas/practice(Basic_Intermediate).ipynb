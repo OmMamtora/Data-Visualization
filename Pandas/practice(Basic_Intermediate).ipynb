{
 "cells": [
  {
   "cell_type": "code",
   "execution_count": 16,
   "metadata": {},
   "outputs": [],
   "source": [
    "import pandas as pd\n",
    "import numpy as np"
   ]
  },
  {
   "cell_type": "markdown",
   "metadata": {},
   "source": [
    "## Basic"
   ]
  },
  {
   "cell_type": "code",
   "execution_count": 6,
   "metadata": {},
   "outputs": [
    {
     "name": "stdout",
     "output_type": "stream",
     "text": [
      "      Name  Age       City\n",
      "0     Shiv   34  Ahmedabad\n",
      "1      Ram   23      Surat\n",
      "2   Laxman   45   Vadodara\n",
      "3  Krishna   32     Mumbai\n",
      "4   Ganesh   20     Rajkot\n",
      "\n",
      "Load Employee_data.CSV file:-> \n",
      "\n",
      "      Name Department  Age  Salary\n",
      "0    Alice         HR   25   50000\n",
      "1      Bob         IT   30   70000\n",
      "2  Charlie    Finance   29   65000\n",
      "3    David         IT   35   72000\n",
      "4      Eva    Finance   40   80000\n",
      "5    Frank         HR   26   52000\n",
      "6    Grace         IT   28   69000\n",
      "7      Eva    Finance   38   77000\n",
      "8      Ian         HR   32   54000\n",
      "9     Jane         IT   31   71000\n",
      "\n",
      "First 5 rows :-> \n",
      "       Name Department  Age  Salary\n",
      "0    Alice         HR   25   50000\n",
      "1      Bob         IT   30   70000\n",
      "2  Charlie    Finance   29   65000\n",
      "3    David         IT   35   72000\n",
      "4      Eva    Finance   40   80000\n",
      "\n"
     ]
    }
   ],
   "source": [
    "# Create a DataFrame using a dictionary with columns Name, Age, and City.\n",
    "\n",
    "data= pd.DataFrame({\n",
    "    \"Name\" : ['Shiv','Ram','Laxman','Krishna','Ganesh'],\n",
    "    \"Age\" : [34,23,45,32,20],\n",
    "    \"City\" : ['Ahmedabad','Surat','Vadodara','Mumbai','Rajkot']\n",
    "})\n",
    "print(data)\n",
    "print()\n",
    "\n",
    "# Load a CSV file named Employee_data.csv into a DataFrame.\n",
    "\n",
    "df = pd.read_csv('Employee_data.csv')\n",
    "print(\"Load Employee_data.CSV file:-> \\n\")\n",
    "print(df)\n",
    "print()\n",
    "\n",
    "# Display the first 5 rows of the DataFrame.\n",
    "\n",
    "print(\"First 5 rows :-> \\n\",df.head(5))\n",
    "print()\n"
   ]
  },
  {
   "cell_type": "code",
   "execution_count": 19,
   "metadata": {},
   "outputs": [
    {
     "name": "stdout",
     "output_type": "stream",
     "text": [
      "Rows are :->  10\n",
      "Columns are :-> 4\n",
      "Name          object\n",
      "Department    object\n",
      "Age            int64\n",
      "Salary         int64\n",
      "dtype: object\n",
      "\n",
      "<bound method DataFrame.info of       Name Department  Age  Salary\n",
      "0    Alice         HR   25   50000\n",
      "1      Bob         IT   30   70000\n",
      "2  Charlie    Finance   29   65000\n",
      "3    David         IT   35   72000\n",
      "4      Eva    Finance   40   80000\n",
      "5    Frank         HR   26   52000\n",
      "6    Grace         IT   28   69000\n",
      "7      Eva    Finance   38   77000\n",
      "8      Ian         HR   32   54000\n",
      "9     Jane         IT   31   71000>\n",
      "\n",
      "Statistic summary of Data Set :-> \n",
      "              Age        Salary\n",
      "count  10.000000     10.000000\n",
      "mean   31.400000  66000.000000\n",
      "std     4.948625  10540.925534\n",
      "min    25.000000  50000.000000\n",
      "25%    28.250000  56750.000000\n",
      "50%    30.500000  69500.000000\n",
      "75%    34.250000  71750.000000\n",
      "max    40.000000  80000.000000\n"
     ]
    }
   ],
   "source": [
    "# Get the number of rows and columns in the DataFrame.\n",
    "rows,columns = df.shape\n",
    "print(\"Rows are :-> \",rows)\n",
    "print(\"Columns are :->\",columns)\n",
    "\n",
    "# Get the column names and data types.\n",
    "\n",
    "print(df.dtypes)\n",
    "print()\n",
    "print(df.info)\n",
    "print()\n",
    "\n",
    "# Show a statistical summary using .describe().\n",
    "\n",
    "print(\"Statistic summary of Data Set :-> \\n\",df.describe())\n"
   ]
  },
  {
   "cell_type": "code",
   "execution_count": 13,
   "metadata": {},
   "outputs": [
    {
     "name": "stdout",
     "output_type": "stream",
     "text": [
      "Single Column Data:-> \n",
      " 0    25\n",
      "1    30\n",
      "2    29\n",
      "3    35\n",
      "4    40\n",
      "5    26\n",
      "6    28\n",
      "7    38\n",
      "8    32\n",
      "9    31\n",
      "Name: Age, dtype: int64\n",
      "\n",
      "Multiple Columns Data :->     Age     Name\n",
      "0   25    Alice\n",
      "1   30      Bob\n",
      "2   29  Charlie\n",
      "3   35    David\n",
      "4   40      Eva\n",
      "5   26    Frank\n",
      "6   28    Grace\n",
      "7   38      Eva\n",
      "8   32      Ian\n",
      "9   31     Jane\n",
      "\n"
     ]
    }
   ],
   "source": [
    "# Select a single column (e.g., Age) from the DataFrame.\n",
    "\n",
    "single_column = df['Age']\n",
    "print(\"Single Column Data:-> \\n\",single_column)\n",
    "print()\n",
    "\n",
    "# Select multiple columns (Name, Age) from the DataFrame.\n",
    "multiple_columns = df[['Age','Name']]\n",
    "print(\"Multiple Columns Data :-> \",multiple_columns)\n",
    "print()\n"
   ]
  },
  {
   "cell_type": "code",
   "execution_count": 14,
   "metadata": {},
   "outputs": [
    {
     "name": "stdout",
     "output_type": "stream",
     "text": [
      "Age Greater than 30 :-> \n",
      "     Name Department  Age  Salary\n",
      "3  David         IT   35   72000\n",
      "4    Eva    Finance   40   80000\n",
      "7    Eva    Finance   38   77000\n",
      "8    Ian         HR   32   54000\n",
      "9   Jane         IT   31   71000\n",
      "\n",
      "Select Row using Index Position :-> \n",
      " Name          David\n",
      "Department       IT\n",
      "Age              35\n",
      "Salary        72000\n",
      "Name: 3, dtype: object\n",
      "\n",
      "Select Multiple Row Using Index Position :-> \n",
      "       Name Department  Age  Salary\n",
      "0    Alice         HR   25   50000\n",
      "1      Bob         IT   30   70000\n",
      "2  Charlie    Finance   29   65000\n",
      "3    David         IT   35   72000\n",
      "\n"
     ]
    }
   ],
   "source": [
    "# Select rows where Age is greater than 30.\n",
    "\n",
    "selection_row = df[df[\"Age\"] > 30]\n",
    "print(\"Age Greater than 30 :-> \\n\",selection_row)\n",
    "print()\n",
    "\n",
    "# Select rows using index positions with .iloc[].\n",
    "\n",
    "select_row_indexPosition = df.iloc[3]\n",
    "print(\"Select Row using Index Position :-> \\n\",select_row_indexPosition)\n",
    "print()\n",
    "\n",
    "select_multiRow_indexPosition = df.iloc[:4]\n",
    "print(\"Select Multiple Row Using Index Position :-> \\n\",select_multiRow_indexPosition)\n",
    "print()\n"
   ]
  },
  {
   "cell_type": "code",
   "execution_count": 32,
   "metadata": {},
   "outputs": [
    {
     "name": "stdout",
     "output_type": "stream",
     "text": [
      "Rename Column Name:-> \n",
      "   Full_Name Department  Age  Salary   Bonus\n",
      "0     Alice         HR   25   50000  2500.0\n",
      "1       Bob         IT   30   70000  3500.0\n",
      "2   Charlie    Finance   29   65000  3250.0\n",
      "3     David         IT   35   72000  3600.0\n",
      "4       Eva    Finance   40   80000  4000.0\n",
      "5     Frank         HR   26   52000  2600.0\n",
      "6     Grace         IT   28   69000  3450.0\n",
      "7       Eva    Finance   38   77000  3850.0\n",
      "8       Ian         HR   32   54000  2700.0\n",
      "9      Jane         IT   31   71000  3550.0\n",
      "\n",
      "Generate Random Salary :-> \n",
      "       Name  Age       City  Salary\n",
      "0     Shiv   34  Ahmedabad   40294\n",
      "1      Ram   23      Surat   42131\n",
      "2   Laxman   45   Vadodara   20336\n",
      "3  Krishna   32     Mumbai   31284\n",
      "4   Ganesh   20     Rajkot   35243\n"
     ]
    }
   ],
   "source": [
    "\n",
    "# Rename a column from Name to Full_Name.\n",
    "\n",
    "rename_column = df.rename(columns={\"Name\" : \"Full_Name\"},inplace=False)\n",
    "print(\"Rename Column Name:-> \\n\",rename_column)\n",
    "print()\n",
    "\n",
    "\n",
    "# Add a new column Salary with random values.\n",
    "data[\"Salary\"] = np.random.randint(15000,50000,size=len(data))\n",
    "print(\"Generate Random Salary :-> \\n\",data)\n",
    "\n"
   ]
  },
  {
   "cell_type": "code",
   "execution_count": 34,
   "metadata": {},
   "outputs": [
    {
     "name": "stdout",
     "output_type": "stream",
     "text": [
      "      Name  Age       City\n",
      "0     Shiv   34  Ahmedabad\n",
      "1      Ram   23      Surat\n",
      "2   Laxman   45   Vadodara\n",
      "3  Krishna   32       None\n",
      "4   Ganesh   20     Rajkot\n",
      "\n",
      "Drop City Column :-> \n",
      "       Name  Age\n",
      "0     Shiv   34\n",
      "1      Ram   23\n",
      "2   Laxman   45\n",
      "3  Krishna   32\n",
      "4   Ganesh   20\n",
      "\n",
      "After Sorting Data by Age :-> \n",
      "       Name  Age\n",
      "2   Laxman   45\n",
      "0     Shiv   34\n",
      "3  Krishna   32\n",
      "1      Ram   23\n",
      "4   Ganesh   20\n"
     ]
    }
   ],
   "source": [
    "# Drop the column City from the DataFrame.\n",
    "drop_data= pd.DataFrame({\n",
    "    \"Name\" : ['Shiv','Ram','Laxman','Krishna','Ganesh'],\n",
    "    \"Age\" : [34,23,45,32,20],\n",
    "    \"City\" : ['Ahmedabad','Surat','Vadodara',None,'Rajkot']\n",
    "})\n",
    "print(drop_data)\n",
    "print()\n",
    "\n",
    "drop_data.dropna(axis=1, inplace=True)\n",
    "print(\"Drop City Column :-> \\n\",drop_data)\n",
    "print()\n",
    "\n",
    "# Sort the DataFrame by Age in descending order.\n",
    "sort_age = drop_data.sort_values(by=\"Age\",ascending=False,inplace=True)\n",
    "print(\"After Sorting Data by Age :-> \\n\",drop_data)"
   ]
  },
  {
   "cell_type": "code",
   "execution_count": null,
   "metadata": {},
   "outputs": [],
   "source": []
  }
 ],
 "metadata": {
  "kernelspec": {
   "display_name": "Python 3",
   "language": "python",
   "name": "python3"
  },
  "language_info": {
   "codemirror_mode": {
    "name": "ipython",
    "version": 3
   },
   "file_extension": ".py",
   "mimetype": "text/x-python",
   "name": "python",
   "nbconvert_exporter": "python",
   "pygments_lexer": "ipython3",
   "version": "3.8.10"
  }
 },
 "nbformat": 4,
 "nbformat_minor": 2
}
