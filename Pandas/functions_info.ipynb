{
 "cells": [
  {
   "cell_type": "code",
   "execution_count": 2,
   "id": "ba0859f9",
   "metadata": {},
   "outputs": [],
   "source": [
    "import pandas as pd"
   ]
  },
  {
   "cell_type": "markdown",
   "id": "ebab8394",
   "metadata": {},
   "source": [
    "### Melt Function :    \n",
    "    Pandas melt() function is useful to massage a DataFrame into a format where one or more columns are identifier variables, while all other columns, considered measured variables."
   ]
  },
  {
   "cell_type": "markdown",
   "id": "afee19c0",
   "metadata": {},
   "source": [
    "### Parameters:\n",
    "\n",
    "    frame: The DataFrame to melt.\n",
    "\n",
    "    id_vars: Column(s) to keep as identifier variables.\n",
    "\n",
    "    value_vars: Column(s) to unpivot; if None, uses all columns not in id_vars.  pivot: An interactive way to quickly summarize large amounts of data.\n",
    "\n",
    "    var_name: Name for the ‘variable’ column.\n",
    "\n",
    "    value_name: Name for the ‘value’ column.\n",
    "\n",
    "    ignore_index: If True, original index is ignored."
   ]
  },
  {
   "cell_type": "code",
   "execution_count": 5,
   "id": "71419a35",
   "metadata": {},
   "outputs": [
    {
     "name": "stdout",
     "output_type": "stream",
     "text": [
      "    Name  Math  Science\n",
      "0  Alice    85       95\n",
      "1    Bob    90       80\n"
     ]
    }
   ],
   "source": [
    "df = pd.DataFrame({\n",
    "    'Name': ['Alice', 'Bob'],\n",
    "    'Math': [85, 90],\n",
    "    'Science': [95, 80]\n",
    "})\n",
    "\n",
    "print(df)"
   ]
  },
  {
   "cell_type": "code",
   "execution_count": 4,
   "id": "c5b5a8e7",
   "metadata": {},
   "outputs": [
    {
     "name": "stdout",
     "output_type": "stream",
     "text": [
      "    Name  Subject  Score\n",
      "0  Alice     Math     85\n",
      "1    Bob     Math     90\n",
      "2  Alice  Science     95\n",
      "3    Bob  Science     80\n"
     ]
    }
   ],
   "source": [
    "melted_df = pd.melt(df, id_vars=['Name'], var_name='Subject', value_name='Score')\n",
    "print(melted_df)"
   ]
  },
  {
   "cell_type": "code",
   "execution_count": null,
   "id": "2f1cd812",
   "metadata": {},
   "outputs": [],
   "source": []
  }
 ],
 "metadata": {
  "kernelspec": {
   "display_name": "Python 3",
   "language": "python",
   "name": "python3"
  },
  "language_info": {
   "codemirror_mode": {
    "name": "ipython",
    "version": 3
   },
   "file_extension": ".py",
   "mimetype": "text/x-python",
   "name": "python",
   "nbconvert_exporter": "python",
   "pygments_lexer": "ipython3",
   "version": "3.8.10"
  }
 },
 "nbformat": 4,
 "nbformat_minor": 5
}
