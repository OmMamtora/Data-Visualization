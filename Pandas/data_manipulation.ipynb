{
 "cells": [
  {
   "cell_type": "code",
   "execution_count": 20,
   "metadata": {},
   "outputs": [],
   "source": [
    "import pandas as pd"
   ]
  },
  {
   "cell_type": "markdown",
   "metadata": {},
   "source": [
    "## Data Manipulation"
   ]
  },
  {
   "cell_type": "markdown",
   "metadata": {},
   "source": [
    "### Adding"
   ]
  },
  {
   "cell_type": "code",
   "execution_count": 21,
   "metadata": {},
   "outputs": [
    {
     "name": "stdout",
     "output_type": "stream",
     "text": [
      "        Name  Age  Salary  Performance Score\n",
      "0       Shiv   28   50000                 85\n",
      "1        Ram   34   60000                 90\n",
      "2      Shyam   22   45000                 78\n",
      "3  Ghanshyam   30   52000                 92\n",
      "4    Krishna   29   49000                 88\n",
      "5    Jagdish   40   70000                 95\n",
      "6        Raj   25   48000                 80\n",
      "7      Mayur   32   58000                 89\n",
      "\n",
      "After adding Bonus Column :->\n",
      "         Name  Age  Salary  Performance Score   Bonus\n",
      "0       Shiv   28   50000                 85  5000.0\n",
      "1        Ram   34   60000                 90  6000.0\n",
      "2      Shyam   22   45000                 78  4500.0\n",
      "3  Ghanshyam   30   52000                 92  5200.0\n",
      "4    Krishna   29   49000                 88  4900.0\n",
      "5    Jagdish   40   70000                 95  7000.0\n",
      "6        Raj   25   48000                 80  4800.0\n",
      "7      Mayur   32   58000                 89  5800.0\n",
      "\n",
      "After Adding Employee ID :-> \n",
      "   Employee ID       Name  Age  Salary  Performance Score   Bonus\n",
      "0         E01       Shiv   28   50000                 85  5000.0\n",
      "1         E02        Ram   34   60000                 90  6000.0\n",
      "2         E03      Shyam   22   45000                 78  4500.0\n",
      "3         E04  Ghanshyam   30   52000                 92  5200.0\n",
      "4         E05    Krishna   29   49000                 88  4900.0\n",
      "5         E06    Jagdish   40   70000                 95  7000.0\n",
      "6         E07        Raj   25   48000                 80  4800.0\n",
      "7         E08      Mayur   32   58000                 89  5800.0\n"
     ]
    }
   ],
   "source": [
    "data = {\n",
    "    \"Name\" : ['Shiv','Ram','Shyam','Ghanshyam','Krishna','Jagdish','Raj','Mayur'],\n",
    "    \"Age\" : [28,34,22,30,29,40,25,32],\n",
    "    \"Salary\" : [50000,60000,45000,52000,49000,70000,48000,58000],\n",
    "    \"Performance Score\" : [85,90,78,92,88,95,80,89]\n",
    "}\n",
    "\n",
    "df = pd.DataFrame(data)\n",
    "print(df)\n",
    "print()\n",
    "\n",
    "# adding Data using assignment\n",
    "df[\"Bonus\"] = df[\"Salary\"] * 0.1 # Here we are creating new column bonus and doing some operations\n",
    "print(\"After adding Bonus Column :->\\n\",df) \n",
    "print()\n",
    "\n",
    "# Using Insert Method    -> insert(location(index_number),\"columnName\",some_data)\n",
    "\n",
    "# Inserting employeeif using insert method\n",
    "\n",
    "df.insert(0,\"Employee ID\",['E01','E02','E03','E04','E05','E06','E07','E08'])\n",
    "print(\"After Adding Employee ID :-> \\n\",df)"
   ]
  },
  {
   "cell_type": "markdown",
   "metadata": {},
   "source": [
    "### Updating "
   ]
  },
  {
   "cell_type": "code",
   "execution_count": 13,
   "metadata": {},
   "outputs": [
    {
     "name": "stdout",
     "output_type": "stream",
     "text": [
      "  Employee ID       Name  Age   Salary  Performance Score   Bonus\n",
      "0         E01       Shiv   28  57750.0                 85  5000.0\n",
      "1         E02        Ram   34  63000.0                 90  6000.0\n",
      "2         E03      Shyam   22  47250.0                 78  4500.0\n",
      "3         E04  Ghanshyam   30  54600.0                 92  5200.0\n",
      "4         E05    Krishna   29  51450.0                 88  4900.0\n",
      "5         E06    Jagdish   40  73500.0                 95  7000.0\n",
      "6         E07        Raj   25  50400.0                 80  4800.0\n",
      "7         E08      Mayur   32  60900.0                 89  5800.0\n",
      "\n",
      "  Employee ID       Name  Age   Salary  Performance Score   Bonus\n",
      "0         E01       Shiv   28  55000.0                 85  5000.0\n",
      "1         E02        Ram   34  63000.0                 90  6000.0\n",
      "2         E03      Shyam   22  47250.0                 78  4500.0\n",
      "3         E04  Ghanshyam   30  54600.0                 92  5200.0\n",
      "4         E05    Krishna   29  51450.0                 88  4900.0\n",
      "5         E06    Jagdish   40  73500.0                 95  7000.0\n",
      "6         E07        Raj   25  50400.0                 80  4800.0\n",
      "7         E08      Mayur   32  60900.0                 89  5800.0\n",
      "\n",
      "After Incrasing Salary by 5% :-> \n",
      "   Employee ID       Name  Age   Salary  Performance Score   Bonus\n",
      "0         E01       Shiv   28  57750.0                 85  5000.0\n",
      "1         E02        Ram   34  66150.0                 90  6000.0\n",
      "2         E03      Shyam   22  49612.5                 78  4500.0\n",
      "3         E04  Ghanshyam   30  57330.0                 92  5200.0\n",
      "4         E05    Krishna   29  54022.5                 88  4900.0\n",
      "5         E06    Jagdish   40  77175.0                 95  7000.0\n",
      "6         E07        Raj   25  52920.0                 80  4800.0\n",
      "7         E08      Mayur   32  63945.0                 89  5800.0\n"
     ]
    }
   ],
   "source": [
    "print(df)\n",
    "\n",
    "# .loc[] -  This method is use for acessing particular cell and able to do modifications\n",
    "# Syntax : df.loc[row_index,\"Column_Name\"] = New Value\n",
    "\n",
    "print()\n",
    "df.loc[0,\"Salary\"] = 55000\n",
    "print(df)\n",
    "print()\n",
    "\n",
    "# Increasing salary by 5%\n",
    "df[\"Salary\"] = df[\"Salary\"] * 1.05\n",
    "print(\"After Incrasing Salary by 5% :-> \\n\",df)\n"
   ]
  },
  {
   "cell_type": "markdown",
   "metadata": {},
   "source": [
    "### Removing "
   ]
  },
  {
   "cell_type": "code",
   "execution_count": 19,
   "metadata": {},
   "outputs": [
    {
     "name": "stdout",
     "output_type": "stream",
     "text": [
      "  Employee ID       Name  Age  Salary  Performance Score   Bonus\n",
      "0         E01       Shiv   28   50000                 85  5000.0\n",
      "1         E02        Ram   34   60000                 90  6000.0\n",
      "2         E03      Shyam   22   45000                 78  4500.0\n",
      "3         E04  Ghanshyam   30   52000                 92  5200.0\n",
      "4         E05    Krishna   29   49000                 88  4900.0\n",
      "5         E06    Jagdish   40   70000                 95  7000.0\n",
      "6         E07        Raj   25   48000                 80  4800.0\n",
      "7         E08      Mayur   32   58000                 89  5800.0\n",
      "\n",
      "  Employee ID       Name  Age  Salary  Performance Score\n",
      "0         E01       Shiv   28   50000                 85\n",
      "1         E02        Ram   34   60000                 90\n",
      "2         E03      Shyam   22   45000                 78\n",
      "3         E04  Ghanshyam   30   52000                 92\n",
      "4         E05    Krishna   29   49000                 88\n",
      "5         E06    Jagdish   40   70000                 95\n",
      "6         E07        Raj   25   48000                 80\n",
      "7         E08      Mayur   32   58000                 89\n",
      "\n",
      "  Employee ID       Name  Salary\n",
      "0         E01       Shiv   50000\n",
      "1         E02        Ram   60000\n",
      "2         E03      Shyam   45000\n",
      "3         E04  Ghanshyam   52000\n",
      "4         E05    Krishna   49000\n",
      "5         E06    Jagdish   70000\n",
      "6         E07        Raj   48000\n",
      "7         E08      Mayur   58000\n"
     ]
    }
   ],
   "source": [
    "# Drop method is use for deleting any column and any row\n",
    "# Syntax : df.drop(columns = [\"ColumnName\"], inplace =True) \n",
    "# Inplace = True means, modify original data from directly. Inplace = False return new dataset.\n",
    "\n",
    "print(df)\n",
    "\n",
    "print()\n",
    "\n",
    "#Single Column Remove\n",
    "df.drop(columns=[\"Bonus\"], inplace=True)\n",
    "print(df)\n",
    "print()\n",
    "\n",
    "# Multiple Coulmn Remove\n",
    "df.drop(columns=[\"Age\",\"Performance Score\"], inplace=True)\n",
    "print(df)"
   ]
  },
  {
   "cell_type": "markdown",
   "metadata": {},
   "source": []
  },
  {
   "cell_type": "markdown",
   "metadata": {},
   "source": [
    "\n",
    "# Missing Data Handling\n"
   ]
  },
  {
   "cell_type": "markdown",
   "metadata": {},
   "source": [
    "### Identify Missing Data"
   ]
  },
  {
   "cell_type": "markdown",
   "metadata": {},
   "source": [
    "NaN (Not a Number)\n",
    "\n",
    "Methods:\n",
    "\n",
    "step-1 Identify at which place data is missing\n",
    "\n",
    "isnull() :  For Identify the missing data and it returns Boolean data True or False.\n",
    "\n",
    "            Here, True Means Data is missing at that place and False Means Data is not Missing \n",
    "            "
   ]
  },
  {
   "cell_type": "code",
   "execution_count": 25,
   "metadata": {},
   "outputs": [
    {
     "name": "stdout",
     "output_type": "stream",
     "text": [
      "      Name   Age   Salary  Performance Score\n",
      "0     Shiv  28.0  50000.0               85.0\n",
      "1      Ram  34.0  60000.0               90.0\n",
      "2    Shyam  22.0  45000.0               78.0\n",
      "3     None   NaN      NaN                NaN\n",
      "4  Krishna  29.0  49000.0               88.0\n",
      "5  Jagdish  40.0  70000.0               95.0\n",
      "6      Raj  25.0  48000.0               80.0\n",
      "7    Mayur  32.0  58000.0               89.0\n",
      "\n",
      "    Name    Age  Salary  Performance Score\n",
      "0  False  False   False              False\n",
      "1  False  False   False              False\n",
      "2  False  False   False              False\n",
      "3   True   True    True               True\n",
      "4  False  False   False              False\n",
      "5  False  False   False              False\n",
      "6  False  False   False              False\n",
      "7  False  False   False              False\n",
      "\n",
      "Name                 1\n",
      "Age                  1\n",
      "Salary               1\n",
      "Performance Score    1\n",
      "dtype: int64\n"
     ]
    }
   ],
   "source": [
    "data = {\n",
    "    \"Name\" : ['Shiv','Ram','Shyam',None,'Krishna','Jagdish','Raj','Mayur'],\n",
    "    \"Age\" : [28,34,22,None,29,40,25,32],\n",
    "    \"Salary\" : [50000,60000,45000,None,49000,70000,48000,58000],\n",
    "    \"Performance Score\" : [85,90,78,None,88,95,80,89]\n",
    "}\n",
    "\n",
    "df = pd.DataFrame(data)\n",
    "print(df)\n",
    "print()\n",
    "\n",
    "print(df.isnull())  # This method is used for identify where the data is missing\n",
    "print()\n",
    "print(df.isnull().sum())  # This Method is used for checking how many data missing in column"
   ]
  },
  {
   "cell_type": "markdown",
   "metadata": {},
   "source": [
    "### Missing Data Handling"
   ]
  },
  {
   "cell_type": "markdown",
   "metadata": {},
   "source": [
    "After Detacting Missing Data we have two option.\n",
    "\n",
    "Option 1 : Remove Data\n",
    "\n",
    "Option 2 : Fill Data with Some Value\n",
    "\n",
    "\n",
    "   Removing Data, After removing data it does not effect on you dataset or that data is not necessary for analysis then remove Data\n",
    "\n",
    "   dropna() : Is method for removing Data\n",
    "\n",
    "   Syntax :  dropna(axis = 0 , inplace = True)  \n",
    "   \\\n",
    "   axis = O Means, Removing Rows and axis =1 Means removing columns\n",
    "   \n",
    "   fillna() : Is method use for filling some value at missing value place\n",
    "\n",
    "   Syntax() : fillna( Value , inplace = True)  \n",
    "\n",
    "   Here, at the place of value we have to right default value\n"
   ]
  },
  {
   "cell_type": "code",
   "execution_count": null,
   "metadata": {},
   "outputs": [
    {
     "name": "stdout",
     "output_type": "stream",
     "text": [
      "      Name   Age   Salary  Performance Score\n",
      "0     Shiv  28.0  50000.0               85.0\n",
      "1      Ram  34.0  60000.0               90.0\n",
      "2    Shyam  22.0  45000.0               78.0\n",
      "3     None   NaN      NaN                NaN\n",
      "4  Krishna  29.0  49000.0               88.0\n",
      "5  Jagdish  40.0  70000.0               95.0\n",
      "6      Raj  25.0  48000.0               80.0\n",
      "7    Mayur  32.0  58000.0               89.0\n",
      "\n",
      "      Name   Age   Salary  Performance Score\n",
      "0     Shiv  28.0  50000.0               85.0\n",
      "1      Ram  34.0  60000.0               90.0\n",
      "2    Shyam  22.0  45000.0               78.0\n",
      "4  Krishna  29.0  49000.0               88.0\n",
      "5  Jagdish  40.0  70000.0               95.0\n",
      "6      Raj  25.0  48000.0               80.0\n",
      "7    Mayur  32.0  58000.0               89.0\n"
     ]
    }
   ],
   "source": [
    "data = {\n",
    "    \"Name\" : ['Shiv','Ram','Shyam',None,'Krishna','Jagdish','Raj','Mayur'],\n",
    "    \"Age\" : [28,34,22,None,29,40,25,32],\n",
    "    \"Salary\" : [50000,60000,45000,None,49000,70000,48000,58000],\n",
    "    \"Performance Score\" : [85,90,78,None,88,95,80,89]\n",
    "}\n",
    "\n",
    "df = pd.DataFrame(data)\n",
    "print(df)\n",
    "print()\n",
    "\n",
    "df.dropna(axis=0 , inplace=True)  # This removes None data from row\n",
    "print(df)\n"
   ]
  },
  {
   "cell_type": "markdown",
   "metadata": {},
   "source": [
    "### Filling Default Value"
   ]
  },
  {
   "cell_type": "code",
   "execution_count": 37,
   "metadata": {},
   "outputs": [
    {
     "name": "stdout",
     "output_type": "stream",
     "text": [
      "      Name   Age   Salary  Performance Score\n",
      "0     Shiv  28.0  50000.0               85.0\n",
      "1      Ram  34.0  60000.0               90.0\n",
      "2    Shyam  22.0  45000.0               78.0\n",
      "3     None   NaN      NaN                NaN\n",
      "4  Krishna  29.0  49000.0               88.0\n",
      "5  Jagdish  40.0  70000.0               95.0\n",
      "6      Raj  25.0  48000.0               80.0\n",
      "7    Mayur  32.0  58000.0               89.0\n",
      "\n",
      "      Name   Age   Salary  Performance Score\n",
      "0     Shiv  28.0  50000.0               85.0\n",
      "1      Ram  34.0  60000.0               90.0\n",
      "2    Shyam  22.0  45000.0               78.0\n",
      "3     None  30.0      NaN                NaN\n",
      "4  Krishna  29.0  49000.0               88.0\n",
      "5  Jagdish  40.0  70000.0               95.0\n",
      "6      Raj  25.0  48000.0               80.0\n",
      "7    Mayur  32.0  58000.0               89.0\n",
      "\n",
      "Set Salary At place of NaN :-> \n",
      "\n",
      "      Name   Age        Salary  Performance Score\n",
      "0     Shiv  28.0  50000.000000               85.0\n",
      "1      Ram  34.0  60000.000000               90.0\n",
      "2    Shyam  22.0  45000.000000               78.0\n",
      "3     None  30.0  54285.714286                NaN\n",
      "4  Krishna  29.0  49000.000000               88.0\n",
      "5  Jagdish  40.0  70000.000000               95.0\n",
      "6      Raj  25.0  48000.000000               80.0\n",
      "7    Mayur  32.0  58000.000000               89.0\n"
     ]
    }
   ],
   "source": [
    "data = {\n",
    "    \"Name\" : ['Shiv','Ram','Shyam',None,'Krishna','Jagdish','Raj','Mayur'],\n",
    "    \"Age\" : [28,34,22,None,29,40,25,32],\n",
    "    \"Salary\" : [50000,60000,45000,None,49000,70000,48000,58000],\n",
    "    \"Performance Score\" : [85,90,78,None,88,95,80,89]\n",
    "}\n",
    "\n",
    "df = pd.DataFrame(data)\n",
    "print(df)\n",
    "print()\n",
    "\n",
    "\n",
    "\n",
    "# Filling Default Value at the place of NaN \n",
    "\n",
    "\n",
    "df[\"Age\"].fillna(df[\"Age\"].mean(),inplace=True)\n",
    "print(df)\n",
    "print()\n",
    "\n",
    "print(\"Set Salary At place of NaN :-> \\n\")\n",
    "df[\"Salary\"].fillna(df[\"Salary\"].mean(),inplace=True)\n",
    "print(df)"
   ]
  },
  {
   "cell_type": "markdown",
   "metadata": {},
   "source": [
    "### InterPolation\n",
    "\n",
    "##### Interpolation is used for fill estimate value at place of NaN and it is work only on Numeric Value\n",
    "\n",
    "##### Syntax : interpolate(method, axis , inplcae=True)"
   ]
  },
  {
   "cell_type": "code",
   "execution_count": 39,
   "metadata": {},
   "outputs": [
    {
     "name": "stdout",
     "output_type": "stream",
     "text": [
      "Before interpolation..\n",
      "        Name   Age   Salary  Performance Score\n",
      "0       Shiv  28.0  50000.0               85.0\n",
      "1        Ram  34.0  60000.0               90.0\n",
      "2      Shyam  22.0  45000.0               78.0\n",
      "3  Ghanshyam   NaN      NaN                NaN\n",
      "4    Krishna  29.0  49000.0               88.0\n",
      "5    Jagdish  40.0  70000.0               95.0\n",
      "6        Raj  25.0  48000.0               80.0\n",
      "7      Mayur  32.0  58000.0               89.0\n",
      "\n",
      "After Interpolation..\n",
      "        Name   Age   Salary  Performance Score\n",
      "0       Shiv  28.0  50000.0               85.0\n",
      "1        Ram  34.0  60000.0               90.0\n",
      "2      Shyam  22.0  45000.0               78.0\n",
      "3  Ghanshyam  25.5  47000.0               83.0\n",
      "4    Krishna  29.0  49000.0               88.0\n",
      "5    Jagdish  40.0  70000.0               95.0\n",
      "6        Raj  25.0  48000.0               80.0\n",
      "7      Mayur  32.0  58000.0               89.0\n"
     ]
    }
   ],
   "source": [
    "data = {\n",
    "    \"Name\" : ['Shiv','Ram','Shyam','Ghanshyam','Krishna','Jagdish','Raj','Mayur'],\n",
    "    \"Age\" : [28,34,22,None,29,40,25,32],\n",
    "    \"Salary\" : [50000,60000,45000,None,49000,70000,48000,58000],\n",
    "    \"Performance Score\" : [85,90,78,None,88,95,80,89]\n",
    "}\n",
    "\n",
    "df = pd.DataFrame(data)\n",
    "print(\"Before interpolation..\")\n",
    "print(df)\n",
    "print()\n",
    "\n",
    "print(\"After Interpolation..\")\n",
    "df.interpolate(method='linear',axis=0,inplace=True)\n",
    "print(df)"
   ]
  },
  {
   "cell_type": "code",
   "execution_count": null,
   "metadata": {},
   "outputs": [],
   "source": []
  }
 ],
 "metadata": {
  "kernelspec": {
   "display_name": "Python 3",
   "language": "python",
   "name": "python3"
  },
  "language_info": {
   "codemirror_mode": {
    "name": "ipython",
    "version": 3
   },
   "file_extension": ".py",
   "mimetype": "text/x-python",
   "name": "python",
   "nbconvert_exporter": "python",
   "pygments_lexer": "ipython3",
   "version": "3.8.10"
  }
 },
 "nbformat": 4,
 "nbformat_minor": 2
}
