{
 "cells": [
  {
   "cell_type": "code",
   "execution_count": 2,
   "metadata": {},
   "outputs": [],
   "source": [
    "import pandas as pd"
   ]
  },
  {
   "cell_type": "markdown",
   "metadata": {},
   "source": [
    "### Read File"
   ]
  },
  {
   "cell_type": "code",
   "execution_count": null,
   "metadata": {},
   "outputs": [
    {
     "name": "stdout",
     "output_type": "stream",
     "text": [
      "                               Region                Country        Item Type  \\\n",
      "0               Australia and Oceania                 Tuvalu        Baby Food   \n",
      "1   Central America and the Caribbean                Grenada           Cereal   \n",
      "2                              Europe                 Russia  Office Supplies   \n",
      "3                  Sub-Saharan Africa  Sao Tome and Principe           Fruits   \n",
      "4                  Sub-Saharan Africa                 Rwanda  Office Supplies   \n",
      "..                                ...                    ...              ...   \n",
      "95                 Sub-Saharan Africa                   Mali          Clothes   \n",
      "96                               Asia               Malaysia           Fruits   \n",
      "97                 Sub-Saharan Africa           Sierra Leone       Vegetables   \n",
      "98                      North America                 Mexico    Personal Care   \n",
      "99                 Sub-Saharan Africa             Mozambique        Household   \n",
      "\n",
      "   Sales Channel Order Priority  Order Date   Order ID   Ship Date  \\\n",
      "0        Offline              H   5/28/2010  669165933   6/27/2010   \n",
      "1         Online              C   8/22/2012  963881480   9/15/2012   \n",
      "2        Offline              L    5/2/2014  341417157    5/8/2014   \n",
      "3         Online              C   6/20/2014  514321792    7/5/2014   \n",
      "4        Offline              L    2/1/2013  115456712    2/6/2013   \n",
      "..           ...            ...         ...        ...         ...   \n",
      "95        Online              M   7/26/2011  512878119    9/3/2011   \n",
      "96       Offline              L  11/11/2011  810711038  12/28/2011   \n",
      "97       Offline              C    6/1/2016  728815257   6/29/2016   \n",
      "98       Offline              M   7/30/2015  559427106    8/8/2015   \n",
      "99       Offline              L   2/10/2012  665095412   2/15/2012   \n",
      "\n",
      "    Units Sold  Unit Price  Unit Cost  Total Revenue  Total Cost  Total Profit  \n",
      "0         9925      255.28     159.42     2533654.00  1582243.50     951410.50  \n",
      "1         2804      205.70     117.11      576782.80   328376.44     248406.36  \n",
      "2         1779      651.21     524.96     1158502.59   933903.84     224598.75  \n",
      "3         8102        9.33       6.92       75591.66    56065.84      19525.82  \n",
      "4         5062      651.21     524.96     3296425.02  2657347.52     639077.50  \n",
      "..         ...         ...        ...            ...         ...           ...  \n",
      "95         888      109.28      35.84       97040.64    31825.92      65214.72  \n",
      "96        6267        9.33       6.92       58471.11    43367.64      15103.47  \n",
      "97        1485      154.06      90.93      228779.10   135031.05      93748.05  \n",
      "98        5767       81.73      56.67      471336.91   326815.89     144521.02  \n",
      "99        5367      668.27     502.54     3586605.09  2697132.18     889472.91  \n",
      "\n",
      "[100 rows x 14 columns]\n"
     ]
    }
   ],
   "source": [
    "# Read data from CSV file into a dataframe\n",
    "\n",
    "df = pd.read_csv(\"Sales_Records.csv\")\n",
    "\n",
    "# df = pd.read_excel(\"Sales_Records.xlsx\")    # Open excel data\n",
    "\n",
    "print(df)\n"
   ]
  },
  {
   "cell_type": "markdown",
   "metadata": {},
   "source": [
    "### Save File"
   ]
  },
  {
   "cell_type": "code",
   "execution_count": null,
   "metadata": {},
   "outputs": [
    {
     "name": "stdout",
     "output_type": "stream",
     "text": [
      "       Name  Age       City\n",
      "0       Ram   20  Ahmedabad\n",
      "1     Shyam   30      Surat\n",
      "2  Ghanhyam   40     Baroda\n"
     ]
    }
   ],
   "source": [
    "data = {\n",
    "    \"Name\" : ['Ram','Shyam','Ghanhyam'],\n",
    "    \"Age\" : [20,30,40],\n",
    "    \"City\" : ['Ahmedabad','Surat','Baroda']\n",
    "}\n",
    "\n",
    "df = pd.DataFrame(data)  # DataFrame is use for represent data into tabular format\n",
    "print(df)\n",
    "\n",
    "# Save data into CSV File\n",
    "df.to_csv(\"output.csv\",index=False)  # index=False is for Removing Index Number.\n",
    "\n",
    "# df.to_excel(\"output.xlsx\",index=False) # Save file into Excel Format"
   ]
  },
  {
   "cell_type": "markdown",
   "metadata": {},
   "source": [
    "### Display Rows"
   ]
  },
  {
   "cell_type": "code",
   "execution_count": null,
   "metadata": {},
   "outputs": [
    {
     "name": "stdout",
     "output_type": "stream",
     "text": [
      "First 5 Rows \n",
      "                               Region                Country        Item Type  \\\n",
      "0              Australia and Oceania                 Tuvalu        Baby Food   \n",
      "1  Central America and the Caribbean                Grenada           Cereal   \n",
      "2                             Europe                 Russia  Office Supplies   \n",
      "3                 Sub-Saharan Africa  Sao Tome and Principe           Fruits   \n",
      "4                 Sub-Saharan Africa                 Rwanda  Office Supplies   \n",
      "\n",
      "  Sales Channel Order Priority Order Date   Order ID  Ship Date  Units Sold  \\\n",
      "0       Offline              H  5/28/2010  669165933  6/27/2010        9925   \n",
      "1        Online              C  8/22/2012  963881480  9/15/2012        2804   \n",
      "2       Offline              L   5/2/2014  341417157   5/8/2014        1779   \n",
      "3        Online              C  6/20/2014  514321792   7/5/2014        8102   \n",
      "4       Offline              L   2/1/2013  115456712   2/6/2013        5062   \n",
      "\n",
      "   Unit Price  Unit Cost  Total Revenue  Total Cost  Total Profit  \n",
      "0      255.28     159.42     2533654.00  1582243.50     951410.50  \n",
      "1      205.70     117.11      576782.80   328376.44     248406.36  \n",
      "2      651.21     524.96     1158502.59   933903.84     224598.75  \n",
      "3        9.33       6.92       75591.66    56065.84      19525.82  \n",
      "4      651.21     524.96     3296425.02  2657347.52     639077.50  \n",
      "Last 5 Rows \n",
      "                 Region       Country      Item Type Sales Channel  \\\n",
      "95  Sub-Saharan Africa          Mali        Clothes        Online   \n",
      "96                Asia      Malaysia         Fruits       Offline   \n",
      "97  Sub-Saharan Africa  Sierra Leone     Vegetables       Offline   \n",
      "98       North America        Mexico  Personal Care       Offline   \n",
      "99  Sub-Saharan Africa    Mozambique      Household       Offline   \n",
      "\n",
      "   Order Priority  Order Date   Order ID   Ship Date  Units Sold  Unit Price  \\\n",
      "95              M   7/26/2011  512878119    9/3/2011         888      109.28   \n",
      "96              L  11/11/2011  810711038  12/28/2011        6267        9.33   \n",
      "97              C    6/1/2016  728815257   6/29/2016        1485      154.06   \n",
      "98              M   7/30/2015  559427106    8/8/2015        5767       81.73   \n",
      "99              L   2/10/2012  665095412   2/15/2012        5367      668.27   \n",
      "\n",
      "    Unit Cost  Total Revenue  Total Cost  Total Profit  \n",
      "95      35.84       97040.64    31825.92      65214.72  \n",
      "96       6.92       58471.11    43367.64      15103.47  \n",
      "97      90.93      228779.10   135031.05      93748.05  \n",
      "98      56.67      471336.91   326815.89     144521.02  \n",
      "99     502.54     3586605.09  2697132.18     889472.91  \n"
     ]
    }
   ],
   "source": [
    "# head() - is use for display first few rows\n",
    "# tail() - is use for display last few rows\n",
    "\n",
    "df = pd.read_csv('Sales_Records.csv')\n",
    "\n",
    "print(\"First 5 Rows \\n\",df.head(5)) # This will display first 5 Rows\n",
    "print(\"Last 5 Rows \\n\",df.tail(5)) # This will display first 5 Rows\n"
   ]
  },
  {
   "cell_type": "markdown",
   "metadata": {},
   "source": [
    "### Getting data information"
   ]
  },
  {
   "cell_type": "code",
   "execution_count": 37,
   "metadata": {},
   "outputs": [
    {
     "name": "stdout",
     "output_type": "stream",
     "text": [
      "Display information of Data Set\n",
      "<class 'pandas.core.frame.DataFrame'>\n",
      "RangeIndex: 100 entries, 0 to 99\n",
      "Data columns (total 14 columns):\n",
      " #   Column          Non-Null Count  Dtype  \n",
      "---  ------          --------------  -----  \n",
      " 0   Region          100 non-null    object \n",
      " 1   Country         100 non-null    object \n",
      " 2   Item Type       100 non-null    object \n",
      " 3   Sales Channel   100 non-null    object \n",
      " 4   Order Priority  100 non-null    object \n",
      " 5   Order Date      100 non-null    object \n",
      " 6   Order ID        100 non-null    int64  \n",
      " 7   Ship Date       100 non-null    object \n",
      " 8   Units Sold      100 non-null    int64  \n",
      " 9   Unit Price      100 non-null    float64\n",
      " 10  Unit Cost       100 non-null    float64\n",
      " 11  Total Revenue   100 non-null    float64\n",
      " 12  Total Cost      100 non-null    float64\n",
      " 13  Total Profit    100 non-null    float64\n",
      "dtypes: float64(5), int64(2), object(7)\n",
      "memory usage: 11.1+ KB\n",
      "None\n"
     ]
    }
   ],
   "source": [
    "# info is used for checking all the dataset in any column any data is missing or not like that\n",
    "\n",
    "df = pd.read_csv('Sales_Records.csv')\n",
    "\n",
    "print(\"Display information of Data Set\")\n",
    "print(df.info())"
   ]
  },
  {
   "cell_type": "markdown",
   "metadata": {},
   "source": [
    "### Describe method"
   ]
  },
  {
   "cell_type": "code",
   "execution_count": 9,
   "metadata": {},
   "outputs": [
    {
     "name": "stdout",
     "output_type": "stream",
     "text": [
      "        Name  Age  Salary  Performance Score\n",
      "0       Shiv   28   50000                 85\n",
      "1        Ram   34   60000                 90\n",
      "2      Shyam   22   45000                 78\n",
      "3  Ghanshyam   30   52000                 92\n",
      "4    Krishna   29   49000                 88\n",
      "5    Jagdish   40   70000                 95\n",
      "6        Raj   25   48000                 80\n",
      "7      Mayur   32   58000                 89\n",
      "Descriptive Statistics..\n",
      "             Age        Salary  Performance Score\n",
      "count   8.000000      8.000000           8.000000\n",
      "mean   30.000000  54000.000000          87.125000\n",
      "std     5.529144   8194.074514           5.817154\n",
      "min    22.000000  45000.000000          78.000000\n",
      "25%    27.250000  48750.000000          83.750000\n",
      "50%    29.500000  51000.000000          88.500000\n",
      "75%    32.500000  58500.000000          90.500000\n",
      "max    40.000000  70000.000000          95.000000\n"
     ]
    }
   ],
   "source": [
    "# describe() used for to find Numerical colums descriptive statistics.\n",
    "\n",
    "data = {\n",
    "    \"Name\" : ['Shiv','Ram','Shyam','Ghanshyam','Krishna','Jagdish','Raj','Mayur'],\n",
    "    \"Age\" : [28,34,22,30,29,40,25,32],\n",
    "    \"Salary\" : [50000,60000,45000,52000,49000,70000,48000,58000],\n",
    "    \"Performance Score\" : [85,90,78,92,88,95,80,89]\n",
    "}\n",
    "\n",
    "df = pd.DataFrame(data)\n",
    "print(df)\n",
    "\n",
    "print(\"Descriptive Statistics..\")\n",
    "print(df.describe())"
   ]
  },
  {
   "cell_type": "code",
   "execution_count": 10,
   "metadata": {},
   "outputs": [
    {
     "name": "stdout",
     "output_type": "stream",
     "text": [
      "        Name  Age  Salary  Performance Score\n",
      "0       Shiv   28   50000                 85\n",
      "1        Ram   34   60000                 90\n",
      "2      Shyam   22   45000                 78\n",
      "3  Ghanshyam   30   52000                 92\n",
      "4    Krishna   29   49000                 88\n",
      "5    Jagdish   40   70000                 95\n",
      "6        Raj   25   48000                 80\n",
      "7      Mayur   32   58000                 89\n",
      "Shape : (8, 4)\n",
      "Columns Names : Index(['Name', 'Age', 'Salary', 'Performance Score'], dtype='object')\n"
     ]
    }
   ],
   "source": [
    "# Shape() - This retuens size of Dataset, How many rows and columns are in Dataset.\n",
    "# Column() - This returns all the column name which is in Dataset.\n",
    "\n",
    "print(df)\n",
    "print(f'Shape : {df.shape}')\n",
    "print(f'Columns Names : {df.columns}')"
   ]
  },
  {
   "cell_type": "markdown",
   "metadata": {},
   "source": [
    "### Filtering columns"
   ]
  },
  {
   "cell_type": "code",
   "execution_count": 19,
   "metadata": {},
   "outputs": [
    {
     "name": "stdout",
     "output_type": "stream",
     "text": [
      "        Name  Age  Salary  Performance Score\n",
      "0       Shiv   28   50000                 85\n",
      "1        Ram   34   60000                 90\n",
      "2      Shyam   22   45000                 78\n",
      "3  Ghanshyam   30   52000                 92\n",
      "4    Krishna   29   49000                 88\n",
      "5    Jagdish   40   70000                 95\n",
      "6        Raj   25   48000                 80\n",
      "7      Mayur   32   58000                 89\n",
      "\n",
      "Name of employee \n",
      " 0         Shiv\n",
      "1          Ram\n",
      "2        Shyam\n",
      "3    Ghanshyam\n",
      "4      Krishna\n",
      "5      Jagdish\n",
      "6          Raj\n",
      "7        Mayur\n",
      "Name: Name, dtype: object\n",
      "\n",
      "Subset with name and Salary \n",
      "         Name  Salary\n",
      "0       Shiv   50000\n",
      "1        Ram   60000\n",
      "2      Shyam   45000\n",
      "3  Ghanshyam   52000\n",
      "4    Krishna   49000\n",
      "5    Jagdish   70000\n",
      "6        Raj   48000\n",
      "7      Mayur   58000\n"
     ]
    }
   ],
   "source": [
    "data = {\n",
    "    \"Name\" : ['Shiv','Ram','Shyam','Ghanshyam','Krishna','Jagdish','Raj','Mayur'],\n",
    "    \"Age\" : [28,34,22,30,29,40,25,32],\n",
    "    \"Salary\" : [50000,60000,45000,52000,49000,70000,48000,58000],\n",
    "    \"Performance Score\" : [85,90,78,92,88,95,80,89]\n",
    "}\n",
    "\n",
    "df = pd.DataFrame(data)\n",
    "\n",
    "# Print Data freame\n",
    "print(df)\n",
    "\n",
    "print()\n",
    "\n",
    "# Single column return series and multiple columns return dataframe\n",
    "\n",
    "# Single column access\n",
    "print(\"Name of employee \\n\",df[\"Name\"])\n",
    "\n",
    "# Selecting multiple columns\n",
    "subset = df[[\"Name\",\"Salary\"]]\n",
    "print(\"\\nSubset with name and Salary \\n\",subset)\n"
   ]
  },
  {
   "cell_type": "code",
   "execution_count": 34,
   "metadata": {},
   "outputs": [
    {
     "name": "stdout",
     "output_type": "stream",
     "text": [
      "        Name  Age  Salary  Performance Score\n",
      "0       Shiv   28   50000                 85\n",
      "1        Ram   34   60000                 90\n",
      "2      Shyam   22   45000                 78\n",
      "3  Ghanshyam   30   52000                 92\n",
      "4    Krishna   29   49000                 88\n",
      "5    Jagdish   40   70000                 95\n",
      "6        Raj   25   48000                 80\n",
      "7      Mayur   32   58000                 89\n",
      "\n",
      "\n",
      "Employee with salary > 50K :->\n",
      "         Name  Age  Salary  Performance Score\n",
      "1        Ram   34   60000                 90\n",
      "3  Ghanshyam   30   52000                 92\n",
      "5    Jagdish   40   70000                 95\n",
      "7      Mayur   32   58000                 89\n",
      "\n",
      "Employee salary > 50K and age > 30 :->\n",
      "       Name  Age  Salary  Performance Score\n",
      "1      Ram   34   60000                 90\n",
      "5  Jagdish   40   70000                 95\n",
      "7    Mayur   32   58000                 89\n",
      "\n",
      "Employee age > 30 OR performance score > 90 :-> \n",
      "         Name  Age  Salary  Performance Score\n",
      "1        Ram   34   60000                 90\n",
      "3  Ghanshyam   30   52000                 92\n",
      "5    Jagdish   40   70000                 95\n",
      "7      Mayur   32   58000                 89\n"
     ]
    }
   ],
   "source": [
    "print(df)\n",
    "\n",
    "print()\n",
    "\n",
    "# Single Condition.\n",
    "\n",
    "high_salary = df[df[\"Salary\"] > 50000]\n",
    "print(\"\\nEmployee with salary > 50K :->\\n\",high_salary)\n",
    "print()\n",
    "\n",
    "# Multiple Condition\n",
    "\n",
    "filtered = df[(df[\"Salary\"] > 50000) & (df[\"Age\"] > 30)]\n",
    "print(\"Employee salary > 50K and age > 30 :->\\n\",filtered)\n",
    "print()\n",
    "\n",
    "# Using OR condition\n",
    "\n",
    "filtered_or = df[(df[\"Age\"] > 30) | (df[\"Performance Score\"] > 90)]\n",
    "print(\"Employee age > 30 OR performance score > 90 :-> \\n\",filtered_or)\n"
   ]
  },
  {
   "cell_type": "code",
   "execution_count": null,
   "metadata": {},
   "outputs": [],
   "source": [
    "\n"
   ]
  }
 ],
 "metadata": {
  "kernelspec": {
   "display_name": "Python 3",
   "language": "python",
   "name": "python3"
  },
  "language_info": {
   "codemirror_mode": {
    "name": "ipython",
    "version": 3
   },
   "file_extension": ".py",
   "mimetype": "text/x-python",
   "name": "python",
   "nbconvert_exporter": "python",
   "pygments_lexer": "ipython3",
   "version": "3.8.10"
  }
 },
 "nbformat": 4,
 "nbformat_minor": 2
}
