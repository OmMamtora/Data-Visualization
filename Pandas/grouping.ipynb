{
 "cells": [
  {
   "cell_type": "code",
   "execution_count": 1,
   "metadata": {},
   "outputs": [],
   "source": [
    "import pandas as pd"
   ]
  },
  {
   "cell_type": "code",
   "execution_count": 6,
   "metadata": {},
   "outputs": [
    {
     "name": "stdout",
     "output_type": "stream",
     "text": [
      "     Name  Age  Salary\n",
      "0    Arun   28   50000\n",
      "1   Varun   34   60000\n",
      "2  Dhaval   22   45000\n",
      "3  Naresh   34   52000\n",
      "4    Karm   28   48000\n",
      "\n",
      "Age\n",
      "22     45000\n",
      "28     98000\n",
      "34    112000\n",
      "Name: Salary, dtype: int64\n",
      "\n",
      "Age  Name  \n",
      "22   Dhaval    45000\n",
      "28   Arun      50000\n",
      "     Karm      48000\n",
      "34   Naresh    52000\n",
      "     Varun     60000\n",
      "Name: Salary, dtype: int64\n"
     ]
    }
   ],
   "source": [
    "data = {\n",
    "    \"Name\" : ['Arun','Varun','Dhaval','Naresh',\"Karm\"],\n",
    "    \"Age\" : [28,34,22,34,28],\n",
    "    \"Salary\" :[50000,60000,45000,52000,48000]\n",
    "}\n",
    "\n",
    "df = pd.DataFrame(data)\n",
    "print(df)\n",
    "print()\n",
    "\n",
    "# Group on age column and find total salry of each age\n",
    "# Syntax : groupby(\"CoulumName1\")[\"ColumnName2\"].Mathematical operation   \n",
    "# At the place of columnName2 we write ColumnName on which we have to perform operation\n",
    "\n",
    "grouped = df.groupby(\"Age\")[\"Salary\"].sum()\n",
    "print(grouped)\n",
    "print()\n",
    "\n",
    "#Multiple columns grouping\n",
    "\n",
    "multi_grouped = df.groupby([\"Age\",\"Name\"])[\"Salary\"].sum()\n",
    "print(multi_grouped)\n",
    "\n"
   ]
  },
  {
   "cell_type": "code",
   "execution_count": null,
   "metadata": {},
   "outputs": [],
   "source": []
  }
 ],
 "metadata": {
  "kernelspec": {
   "display_name": "Python 3",
   "language": "python",
   "name": "python3"
  },
  "language_info": {
   "codemirror_mode": {
    "name": "ipython",
    "version": 3
   },
   "file_extension": ".py",
   "mimetype": "text/x-python",
   "name": "python",
   "nbconvert_exporter": "python",
   "pygments_lexer": "ipython3",
   "version": "3.8.10"
  }
 },
 "nbformat": 4,
 "nbformat_minor": 2
}
