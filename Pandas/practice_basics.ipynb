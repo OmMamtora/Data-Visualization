{
 "cells": [
  {
   "cell_type": "code",
   "execution_count": 1,
   "metadata": {},
   "outputs": [],
   "source": [
    "import pandas as pd\n",
    "import numpy as np"
   ]
  },
  {
   "cell_type": "markdown",
   "metadata": {},
   "source": [
    "### DataFrame Creation"
   ]
  },
  {
   "cell_type": "code",
   "execution_count": 4,
   "metadata": {},
   "outputs": [
    {
     "name": "stdout",
     "output_type": "stream",
     "text": [
      "DataFrame using a dictionary :-> \n",
      "        Name  Age       City\n",
      "0      Shiv   19  Ahmedabad\n",
      "1   Krishna   21      Surat\n",
      "2  Krutarth   15   Vadodara\n",
      "3       Ram   25     Mumbai\n",
      "\n",
      "DataFrame Using List :-> \n",
      "        Name  Age       City\n",
      "0      Shiv   19  Ahmedabad\n",
      "1   Krishna   21      Surat\n",
      "2  Krutarth   15   Vadodara\n",
      "3       Ram   25     Mumbai\n",
      "\n",
      "DataFrame using Array :-> \n",
      "    Column1  Column2  Column3\n",
      "0       10       20       30\n",
      "1       25       35       45\n",
      "2       67       78       89\n",
      "\n"
     ]
    }
   ],
   "source": [
    "# Create a DataFrame using a dictionary with columns: Name, Age, and City.\n",
    "\n",
    "data = {\n",
    "    \"Name\" : [\"Shiv\",\"Krishna\",\"Krutarth\",\"Ram\"],\n",
    "    \"Age\" : [19,21,15,25],\n",
    "    \"City\" : ['Ahmedabad',\"Surat\",\"Vadodara\",\"Mumbai\"]\n",
    "}\n",
    "\n",
    "df = pd.DataFrame(data)\n",
    "print(\"DataFrame using a dictionary :-> \\n\",df)\n",
    "print()\n",
    "\n",
    "\n",
    "# Create a DataFrame from a list of lists with custom column names.\n",
    "\n",
    "lst = [\n",
    "    [\"Rahul\",24,\"Jaipur\"],\n",
    "    [\"Kumar\",18,\"Delhi\"],\n",
    "    [\"Sourav\",23,\"Utrakhand\"],\n",
    "    [\"Kartik\", 30,\"Nasik\"]\n",
    "]\n",
    "\n",
    "colums = [\"Name\",\"Age\",\"City\"]\n",
    "\n",
    "lst_data = pd.DataFrame(data,columns=colums)\n",
    "print(\"DataFrame Using List :-> \\n\",lst_data)\n",
    "print()\n",
    "\n",
    "# Convert a NumPy array into a DataFrame.\n",
    "\n",
    "arr = np.array([[10,20,30],[25,35,45],[67,78,89]])\n",
    "\n",
    "np_data = pd.DataFrame(arr, columns=['Column1','Column2','Column3'])\n",
    "print(\"DataFrame using Array :-> \\n\",np_data)\n",
    "print()"
   ]
  },
  {
   "cell_type": "markdown",
   "metadata": {},
   "source": [
    "### Data Loading"
   ]
  },
  {
   "cell_type": "code",
   "execution_count": 18,
   "metadata": {},
   "outputs": [
    {
     "name": "stdout",
     "output_type": "stream",
     "text": [
      "    ID     Name  Age Department  Salary\n",
      "0    1    Alice   24         HR   45000\n",
      "1    2      Bob   29         IT   60000\n",
      "2    3  Charlie   31    Finance   72000\n",
      "3    4    David   26  Marketing   55000\n",
      "4    5      Eva   23      Sales   48000\n",
      "5    6    Frank   35         IT   80000\n",
      "6    7    Grace   27         HR   50000\n",
      "7    8    Henry   32    Finance   70000\n",
      "8    9    Irene   28  Marketing   58000\n",
      "9   10     Jack   25      Sales   47500\n",
      "10  11    Karen   30         IT   62000\n",
      "11  12     Liam   34         HR   52000\n",
      "12  13     Maya   22      Sales   44000\n",
      "13  14   Nathan   33    Finance   75000\n",
      "14  15   Olivia   29  Marketing   59000\n",
      "\n",
      "First 10 Rows :-> \n",
      "    ID     Name  Age Department  Salary\n",
      "0   1    Alice   24         HR   45000\n",
      "1   2      Bob   29         IT   60000\n",
      "2   3  Charlie   31    Finance   72000\n",
      "3   4    David   26  Marketing   55000\n",
      "4   5      Eva   23      Sales   48000\n",
      "5   6    Frank   35         IT   80000\n",
      "6   7    Grace   27         HR   50000\n",
      "7   8    Henry   32    Finance   70000\n",
      "8   9    Irene   28  Marketing   58000\n",
      "9  10     Jack   25      Sales   47500\n",
      "\n"
     ]
    }
   ],
   "source": [
    "# Load a CSV file called Employee_data.csv into a DataFrame.\n",
    "df = pd.read_csv('employee_data.csv')\n",
    "print(df)\n",
    "print()\n",
    "\n",
    "# Load only the first 10 rows of a CSV file.\n",
    "\n",
    "rows_display = df.head(10)\n",
    "print(\"First 10 Rows :-> \\n\",rows_display)\n",
    "print()\n"
   ]
  },
  {
   "cell_type": "markdown",
   "metadata": {},
   "source": [
    "### Data Inspection"
   ]
  },
  {
   "cell_type": "code",
   "execution_count": 24,
   "metadata": {},
   "outputs": [
    {
     "name": "stdout",
     "output_type": "stream",
     "text": [
      "First 5 Rows :-> \n",
      "    ID     Name  Age Department  Salary\n",
      "0   1    Alice   24         HR   45000\n",
      "1   2      Bob   29         IT   60000\n",
      "2   3  Charlie   31    Finance   72000\n",
      "3   4    David   26  Marketing   55000\n",
      "4   5      Eva   23      Sales   48000\n",
      "Last 5 Rows :-> \n",
      "     ID    Name  Age Department  Salary\n",
      "10  11   Karen   30         IT   62000\n",
      "11  12    Liam   34         HR   52000\n",
      "12  13    Maya   22      Sales   44000\n",
      "13  14  Nathan   33    Finance   75000\n",
      "14  15  Olivia   29  Marketing   59000\n",
      "\n",
      "Number of Rows :->  15\n",
      "Number of Columns :->  5\n",
      "\n",
      "Data Type of each columns :-> \n",
      " ID             int64\n",
      "Name          object\n",
      "Age            int64\n",
      "Department    object\n",
      "Salary         int64\n",
      "dtype: object\n",
      "\n",
      "Descriptive Statistic :-> \n",
      "               ID        Age       Salary\n",
      "count  15.000000  15.000000     15.00000\n",
      "mean    8.000000  28.533333  58500.00000\n",
      "std     4.472136   4.033196  11384.51329\n",
      "min     1.000000  22.000000  44000.00000\n",
      "25%     4.500000  25.500000  49000.00000\n",
      "50%     8.000000  29.000000  58000.00000\n",
      "75%    11.500000  31.500000  66000.00000\n",
      "max    15.000000  35.000000  80000.00000\n",
      "\n"
     ]
    }
   ],
   "source": [
    "# Display the first 5 and last 5 rows of a DataFrame.\n",
    "print(\"First 5 Rows :-> \\n\",df.head(5))\n",
    "print(\"Last 5 Rows :-> \\n\",df.tail(5))\n",
    "print()\n",
    "\n",
    "# Get the number of rows and columns in a DataFrame.\n",
    "rows,columns = df.shape\n",
    "print(\"Number of Rows :-> \",rows)\n",
    "print(\"Number of Columns :-> \",columns)\n",
    "print()\n",
    "\n",
    "# Get the data types of each column.\n",
    "print(\"Data Type of each columns :-> \\n\",df.dtypes)\n",
    "print()\n",
    "\n",
    "# Get a summary of statistics for numeric columns.\n",
    "print(\"Descriptive Statistic :-> \\n\",df.describe())\n",
    "print()"
   ]
  },
  {
   "cell_type": "markdown",
   "metadata": {},
   "source": [
    "### Selecting Data"
   ]
  },
  {
   "cell_type": "code",
   "execution_count": 32,
   "metadata": {},
   "outputs": [
    {
     "name": "stdout",
     "output_type": "stream",
     "text": [
      "Single Column Data :-> \n",
      " 0       Alice\n",
      "1         Bob\n",
      "2     Charlie\n",
      "3       David\n",
      "4         Eva\n",
      "5       Frank\n",
      "6       Grace\n",
      "7       Henry\n",
      "8       Irene\n",
      "9        Jack\n",
      "10      Karen\n",
      "11       Liam\n",
      "12       Maya\n",
      "13     Nathan\n",
      "14     Olivia\n",
      "Name: Name, dtype: object\n",
      "\n",
      "Multiple Column Data :-> \n",
      "        Name Department\n",
      "0     Alice         HR\n",
      "1       Bob         IT\n",
      "2   Charlie    Finance\n",
      "3     David  Marketing\n",
      "4       Eva      Sales\n",
      "5     Frank         IT\n",
      "6     Grace         HR\n",
      "7     Henry    Finance\n",
      "8     Irene  Marketing\n",
      "9      Jack      Sales\n",
      "10    Karen         IT\n",
      "11     Liam         HR\n",
      "12     Maya      Sales\n",
      "13   Nathan    Finance\n",
      "14   Olivia  Marketing\n",
      "\n"
     ]
    }
   ],
   "source": [
    "# Select a single column from a DataFrame.\n",
    "name_column = df['Name']\n",
    "print(\"Single Column Data :-> \\n\",name_column)\n",
    "print()\n",
    "\n",
    "# Select multiple columns from a DataFrame.\n",
    "multi_column = df[[\"Name\",\"Department\"]]\n",
    "print(\"Multiple Column Data :-> \\n\",multi_column)\n",
    "print()\n",
    "\n"
   ]
  },
  {
   "cell_type": "code",
   "execution_count": null,
   "metadata": {},
   "outputs": [
    {
     "name": "stdout",
     "output_type": "stream",
     "text": [
      "Name of Employee whose salary < 50K :->\n",
      "        ID  Age Department  Salary\n",
      "Name                             \n",
      "Alice   1   24         HR   45000\n",
      "Eva     5   23      Sales   48000\n",
      "Jack   10   25      Sales   47500\n",
      "Maya   13   22      Sales   44000\n",
      "\n",
      "Employee Department is IT and Salary > 50000 ->\n",
      "        ID  Age Department  Salary\n",
      "Name                             \n",
      "Bob     2   29         IT   60000\n",
      "Frank   6   35         IT   80000\n",
      "Karen  11   30         IT   62000\n",
      "\n",
      "Display First row data :-> \n",
      " ID                1\n",
      "Age              24\n",
      "Department       HR\n",
      "Salary        45000\n",
      "Name: Alice, dtype: object\n",
      "\n",
      "Display first 4 Rows Data :-> \n",
      "          ID  Age Department  Salary\n",
      "Name                               \n",
      "Alice     1   24         HR   45000\n",
      "Bob       2   29         IT   60000\n",
      "Charlie   3   31    Finance   72000\n",
      "David     4   26  Marketing   55000\n",
      "\n"
     ]
    }
   ],
   "source": [
    "# Select rows where a column value meets a condition (e.g., Age > 30).\n",
    "single_condition = df[df[\"Salary\"] < 50000]\n",
    "print(\"Name of Employee whose salary < 50K :->\\n\", single_condition)\n",
    "print()\n",
    "\n",
    "multi_condition = df[(df[\"Department\"] == \"IT\") & (df[\"Salary\"] > 50000)]\n",
    "print(\"Employee Department is IT and Salary > 50000 ->\\n\",multi_condition)\n",
    "print()\n",
    "\n",
    "# Select rows using .iloc[]S.\n",
    "\n",
    "#  .iloc[] = Index-based selection\n",
    "rows_data = df.iloc[0]\n",
    "print(\"Display First row data :-> \\n\",rows_data)\n",
    "print()\n",
    "\n",
    "multi_row_data = df.iloc[:4]\n",
    "print(\"Display first 4 Rows Data :-> \\n\",multi_row_data)\n",
    "print()\n",
    "\n"
   ]
  },
  {
   "cell_type": "markdown",
   "metadata": {},
   "source": [
    "## Data Cleaning"
   ]
  },
  {
   "cell_type": "code",
   "execution_count": 68,
   "metadata": {},
   "outputs": [
    {
     "name": "stdout",
     "output_type": "stream",
     "text": [
      "Finding Missing Value :-> \n",
      "     Name    Age  Salary  Performance Score\n",
      "0  False  False   False              False\n",
      "1  False  False   False               True\n",
      "2   True   True   False              False\n",
      "3  False  False    True              False\n",
      "4  False  False   False              False\n",
      "Count of Missing Value :-> \n",
      " Name                 1\n",
      "Age                  1\n",
      "Salary               1\n",
      "Performance Score    1\n",
      "dtype: int64\n",
      "\n",
      "Missing Value Rows Drop :-> \n",
      "       Name   Age   Salary  Performance Score\n",
      "0     Shiv  28.0  50000.0               85.0\n",
      "4  Krishna  29.0  49000.0               88.0\n",
      "\n"
     ]
    }
   ],
   "source": [
    "df = pd.DataFrame({\n",
    "    \"Name\" : ['Shiv','Ram',None,'Ghanshyam','Krishna'],\n",
    "    \"Age\" : [28,34,None,30,29],\n",
    "    \"Salary\" : [50000,60000,52000,None,49000],\n",
    "    \"Performance Score\" : [85,None,90,92,88]\n",
    "})\n",
    "\n",
    "\n",
    "# Find and count missing values in each column.\n",
    "find_value = df.isnull()\n",
    "print(\"Finding Missing Value :-> \\n\",find_value)\n",
    "print(\"Count of Missing Value :-> \\n\",find_value.sum())\n",
    "print()\n",
    "\n",
    "# Drop rows with missing values.\n",
    "drop_row = df.dropna(axis=0 , inplace=False)\n",
    "print(\"Missing Value Rows Drop :-> \\n\",drop_row)\n",
    "print()\n"
   ]
  },
  {
   "cell_type": "code",
   "execution_count": 80,
   "metadata": {},
   "outputs": [
    {
     "name": "stdout",
     "output_type": "stream",
     "text": [
      "Fill Name :-> \n",
      " 0         Shiv\n",
      "1          Ram\n",
      "2      Krishna\n",
      "3    Ghanshyam\n",
      "4      Krishna\n",
      "Name: Name, dtype: object\n",
      "   Age  Salary  Performance Score\n",
      "0   28   50000                 85\n",
      "1   34   60000                 82\n",
      "2   28   52000                 90\n",
      "3   30   45000                 92\n",
      "4   29   49000                 88\n",
      "\n",
      "DataFrame after removing duplicates:\n",
      "         Name  Age  Salary  Performance Score\n",
      "0       Shiv   28   50000                 85\n",
      "1        Ram   34   60000                 82\n",
      "2    Krishna   28   52000                 90\n",
      "3  Ghanshyam   30   45000                 92\n",
      "\n",
      "DataFrame after removing duplicates:\n",
      "         Name  Age  Salary  Performance Score\n",
      "0       Shiv   28   50000                 85\n",
      "1        Ram   34   60000                 82\n",
      "2    Krishna   28   52000                 90\n",
      "3  Ghanshyam   30   45000                 92\n",
      "\n"
     ]
    }
   ],
   "source": [
    "\n",
    "# Fill missing values with a specific value or method (like forward fill).\n",
    "fill_name = df[\"Name\"].fillna(\"XYZ\")\n",
    "print(\"Fill Name :-> \\n\",fill_name)\n",
    "\n",
    "# fill_data = df[[\"Age\",\"Salary\",\"Performance Score\"]].fillna(df[\"Age\"].mean())\n",
    "fill_data = df[[\"Age\",\"Salary\",\"Performance Score\"]].fillna({\n",
    "    \"Age\" : df[\"Age\"].mean(),\n",
    "    \"Salary\" : df[\"Salary\"].mean(),\n",
    "    \"Performance Score\" : df[\"Performance Score\"].mean()\n",
    "})\n",
    "print(fill_data)\n",
    "print()\n",
    "\n",
    "# Remove duplicate rows.\n",
    "df = pd.DataFrame({\n",
    "    \"Name\" : ['Shiv','Ram','Krishna','Ghanshyam','Krishna'],\n",
    "    \"Age\" : [28,34,28,30,29],\n",
    "    \"Salary\" : [50000,60000,52000,45000,49000],\n",
    "    \"Performance Score\" : [85,82,90,92,88]\n",
    "})\n",
    "\n",
    "\n",
    "duplicate_remove = df.drop_duplicates(subset=[\"Name\"])\n",
    "print(\"DataFrame after removing duplicates:\\n\", duplicate_remove)\n",
    "print()\n",
    "\n",
    "duplicate_remove_multiple = df.drop_duplicates(subset=[\"Name\",\"Age\"]) # here it does not effect on output beacuse the compile understand hat both are unique value.\n",
    "print(\"DataFrame after removing duplicates:\\n\", duplicate_remove)\n",
    "print()"
   ]
  },
  {
   "cell_type": "markdown",
   "metadata": {},
   "source": [
    "## Data Manipulation"
   ]
  },
  {
   "cell_type": "code",
   "execution_count": 91,
   "metadata": {},
   "outputs": [
    {
     "name": "stdout",
     "output_type": "stream",
     "text": [
      "        Name  Salary EmployeID\n",
      "0       Shiv   50000       E01\n",
      "1        Ram   60000       E02\n",
      "2     Shayam   52000       E03\n",
      "3  Ghanshyam   45000       E04\n",
      "4    Krishna   49000       E05\n",
      "        Name  Age  Salary EmployeID\n",
      "0       Shiv   24   50000       E01\n",
      "1        Ram   35   60000       E02\n",
      "2     Shayam   26   52000       E03\n",
      "3  Ghanshyam   43   45000       E04\n",
      "4    Krishna   30   49000       E05\n",
      "\n",
      "  EmployeeName  EmployeeAge  MonthlySalary EmployeID\n",
      "0         Shiv           24          50000       E01\n",
      "1          Ram           35          60000       E02\n",
      "2       Shayam           26          52000       E03\n",
      "3    Ghanshyam           43          45000       E04\n",
      "4      Krishna           30          49000       E05\n",
      "\n",
      "  EmployeeName  EmployeeAge  MonthlySalary EmployeID\n",
      "3    Ghanshyam           43          45000       E04\n",
      "4      Krishna           30          49000       E05\n",
      "0         Shiv           24          50000       E01\n",
      "2       Shayam           26          52000       E03\n",
      "1          Ram           35          60000       E02\n",
      "\n",
      "  EmployeeName  EmployeeAge  MonthlySalary EmployeID\n",
      "1          Ram           35          60000       E02\n",
      "\n"
     ]
    }
   ],
   "source": [
    "# Add a new column to the DataFrame.\n",
    "df = pd.DataFrame({\n",
    "    \"Name\" : ['Shiv','Ram','Shayam','Ghanshyam','Krishna'],\n",
    "    \"Salary\" : [50000,60000,52000,45000,49000],\n",
    "})\n",
    "\n",
    "df[\"EmployeID\"] = ['E01','E02','E03','E04','E05'] \n",
    "print(df)\n",
    "df.insert(1,\"Age\",[24,35,26,43,30])\n",
    "print(df)\n",
    "print()\n",
    "\n",
    "# Rename columns.\n",
    "df.rename(columns={\n",
    "    \"Name\": \"EmployeeName\",\n",
    "    \"Salary\": \"MonthlySalary\",\n",
    "    \"Age\": \"EmployeeAge\"\n",
    "}, inplace=True)\n",
    "\n",
    "print(df)\n",
    "print()\n",
    "\n",
    "\n",
    "# Sort the DataFrame by a column (ascending and descending).\n",
    "df.sort_values(by=\"MonthlySalary\",ascending=True,inplace=True)\n",
    "print(df)\n",
    "print()\n",
    "\n",
    "# Filter rows based on multiple conditions.\n",
    "filtered = df[(df[\"EmployeeAge\"] > 30) & (df[\"MonthlySalary\"] > 45000 )]\n",
    "print(filtered)\n",
    "print()\n"
   ]
  },
  {
   "cell_type": "markdown",
   "metadata": {},
   "source": [
    "## Grouping and Aggregation"
   ]
  },
  {
   "cell_type": "code",
   "execution_count": 100,
   "metadata": {},
   "outputs": [
    {
     "name": "stdout",
     "output_type": "stream",
     "text": [
      "Name     Age\n",
      "Alice    25     50000.0\n",
      "Bob      30     70000.0\n",
      "Charlie  29     65000.0\n",
      "David    35     72000.0\n",
      "Eva      38     77000.0\n",
      "         40     80000.0\n",
      "Frank    26     52000.0\n",
      "Grace    28     69000.0\n",
      "Ian      32     54000.0\n",
      "Jane     31     71000.0\n",
      "Name: Salary, dtype: float64\n",
      "\n",
      "Name\n",
      "Alice      1\n",
      "Bob        1\n",
      "Charlie    1\n",
      "David      1\n",
      "Eva        2\n",
      "Frank      1\n",
      "Grace      1\n",
      "Ian        1\n",
      "Jane       1\n",
      "dtype: int64\n",
      "\n",
      "            mean     sum    max\n",
      "Name                           \n",
      "Alice    50000.0   50000  50000\n",
      "Bob      70000.0   70000  70000\n",
      "Charlie  65000.0   65000  65000\n",
      "David    72000.0   72000  72000\n",
      "Eva      78500.0  157000  80000\n",
      "Frank    52000.0   52000  52000\n",
      "Grace    69000.0   69000  69000\n",
      "Ian      54000.0   54000  54000\n",
      "Jane     71000.0   71000  71000\n",
      "\n"
     ]
    }
   ],
   "source": [
    "# Group the DataFrame by a column and calculate the mean.\n",
    "\n",
    "df = pd.DataFrame({\n",
    "    \"Name\": ['Alice', 'Bob', 'Charlie', 'David', 'Eva', 'Frank', 'Grace', 'Eva', 'Ian', 'Jane'],\n",
    "    \"Department\": ['HR', 'IT', 'Finance', 'IT', 'Finance', 'HR', 'IT', 'Finance', 'HR', 'IT'],\n",
    "    \"Age\": [25, 30, 29, 35, 40, 26, 28, 38, 32, 31],\n",
    "    \"Salary\": [50000, 70000, 65000, 72000, 80000, 52000, 69000, 77000, 54000, 71000]\n",
    "})\n",
    "\n",
    "grouped_frame = df.groupby([\"Name\",\"Age\"])[\"Salary\"].mean()\n",
    "print(grouped_frame)\n",
    "print()\n",
    "\n",
    "# Count the number of entries in each group.\n",
    "grouped_count = df.groupby(\"Name\").size()\n",
    "print(grouped_count)\n",
    "print()\n",
    "\n",
    "# Apply multiple aggregation functions (mean, sum, max) on grouped data.\n",
    "grouped_agg = df.groupby(\"Name\")[\"Salary\"].agg(['mean', 'sum', 'max'])\n",
    "\n",
    "print(grouped_agg)\n",
    "print()\n"
   ]
  },
  {
   "cell_type": "markdown",
   "metadata": {},
   "source": [
    "## Merging and Joining"
   ]
  },
  {
   "cell_type": "code",
   "execution_count": 104,
   "metadata": {},
   "outputs": [
    {
     "name": "stdout",
     "output_type": "stream",
     "text": [
      "   EmpID     Name  DepartmentID DepartmentName\n",
      "0    101     Shiv             1             HR\n",
      "1    103      Raj             1             HR\n",
      "2    102      Ram             2             IT\n",
      "3    105  Sanskar             2             IT\n",
      "4    104  Krishna             3        Finance\n",
      "\n",
      "   EmpID     Name  DepartmentID DepartmentName\n",
      "0    101     Shiv             1             HR\n",
      "1    103      Raj             1             HR\n",
      "2    102      Ram             2             IT\n",
      "3    105  Sanskar             2             IT\n",
      "4    104  Krishna             3        Finance\n",
      "   EmpID     Name  DepartmentID DepartmentName\n",
      "0    101     Shiv             1             HR\n",
      "1    102      Ram             2             IT\n",
      "2    103      Raj             1             HR\n",
      "3    104  Krishna             3        Finance\n",
      "4    105  Sanskar             2             IT\n",
      "   EmpID     Name  DepartmentID DepartmentName\n",
      "0  101.0     Shiv             1             HR\n",
      "1  103.0      Raj             1             HR\n",
      "2  102.0      Ram             2             IT\n",
      "3  105.0  Sanskar             2             IT\n",
      "4  104.0  Krishna             3        Finance\n",
      "5    NaN      NaN             4      Marketing\n",
      "   EmpID     Name  DepartmentID DepartmentName\n",
      "0  101.0     Shiv             1             HR\n",
      "1  103.0      Raj             1             HR\n",
      "2  102.0      Ram             2             IT\n",
      "3  105.0  Sanskar             2             IT\n",
      "4  104.0  Krishna             3        Finance\n",
      "5    NaN      NaN             4      Marketing\n"
     ]
    }
   ],
   "source": [
    "# Merge two DataFrames using a common key.\n",
    "\n",
    "\n",
    "employees = pd.DataFrame({\n",
    "    \"EmpID\": [101, 102, 103, 104, 105],\n",
    "    \"Name\": ['Shiv', 'Ram', 'Raj', 'Krishna', 'Sanskar'],\n",
    "    \"DepartmentID\": [1, 2, 1, 3, 2]\n",
    "})\n",
    "\n",
    "departments = pd.DataFrame({\n",
    "    \"DepartmentID\": [1, 2, 3, 4],\n",
    "    \"DepartmentName\": ['HR', 'IT', 'Finance', 'Marketing']\n",
    "})\n",
    "\n",
    "\n",
    "marge_dataframes = pd.merge(employees,departments,on=\"DepartmentID\")\n",
    "print(marge_dataframes)\n",
    "print()\n",
    "\n",
    "\n",
    "# Perform an inner, left, right, and outer join.\n",
    "\n",
    "inner_joins = pd.merge(employees,departments,on=\"DepartmentID\",how=\"inner\")\n",
    "print(inner_joins)\n",
    "\n",
    "left_joins = pd.merge(employees,departments,on=\"DepartmentID\",how=\"left\")\n",
    "print(left_joins)\n",
    "\n",
    "right_joins = pd.merge(employees,departments,on=\"DepartmentID\",how=\"right\")\n",
    "print(right_joins)\n",
    "\n",
    "outer_joins = pd.merge(employees,departments,on=\"DepartmentID\",how=\"outer\")\n",
    "print(outer_joins)\n",
    "\n"
   ]
  },
  {
   "cell_type": "markdown",
   "metadata": {},
   "source": [
    "## Exporting Data"
   ]
  },
  {
   "cell_type": "code",
   "execution_count": null,
   "metadata": {},
   "outputs": [
    {
     "name": "stdout",
     "output_type": "stream",
     "text": [
      "      Name Department  Age  Salary\n",
      "0    Alice         HR   25   50000\n",
      "1      Bob         IT   30   70000\n",
      "2  Charlie    Finance   29   65000\n",
      "3    David         IT   35   72000\n",
      "4      Eva    Finance   40   80000\n",
      "5    Frank         HR   26   52000\n",
      "6    Grace         IT   28   69000\n",
      "7      Eva    Finance   38   77000\n",
      "8      Ian         HR   32   54000\n",
      "9     Jane         IT   31   71000\n"
     ]
    }
   ],
   "source": [
    "print(df)\n",
    "\n",
    "# Save a DataFrame to a CSV file.\n",
    "df.to_csv('Employee_data.csv',index=False)"
   ]
  }
 ],
 "metadata": {
  "kernelspec": {
   "display_name": "Python 3",
   "language": "python",
   "name": "python3"
  },
  "language_info": {
   "codemirror_mode": {
    "name": "ipython",
    "version": 3
   },
   "file_extension": ".py",
   "mimetype": "text/x-python",
   "name": "python",
   "nbconvert_exporter": "python",
   "pygments_lexer": "ipython3",
   "version": "3.8.10"
  }
 },
 "nbformat": 4,
 "nbformat_minor": 2
}
