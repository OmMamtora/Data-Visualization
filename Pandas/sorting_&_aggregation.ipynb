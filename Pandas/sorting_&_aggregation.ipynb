{
 "cells": [
  {
   "cell_type": "code",
   "execution_count": 3,
   "metadata": {},
   "outputs": [],
   "source": [
    "import pandas as pd"
   ]
  },
  {
   "cell_type": "markdown",
   "metadata": {},
   "source": [
    "### Sorting\n",
    "##### sort_value()  is method for sort data on 1 or more column\n",
    "##### Syntax :  sort_value(by=\"columnName\", ascending = True/ False , inplace = True)  \n",
    "##### Here, True is for ascending order sorting and false for descending order sorting"
   ]
  },
  {
   "cell_type": "code",
   "execution_count": 9,
   "metadata": {},
   "outputs": [
    {
     "name": "stdout",
     "output_type": "stream",
     "text": [
      "Before Sorting..\n",
      "     Name  Age  Salary\n",
      "0    Arun   26   20000\n",
      "1   Varun   23   30000\n",
      "2  Dhaval   40   10000\n",
      "\n",
      "Sorting on age and print in ascending order..\n",
      "     Name  Age  Salary\n",
      "1   Varun   23   30000\n",
      "0    Arun   26   20000\n",
      "2  Dhaval   40   10000\n",
      "\n",
      "Sorting on Salary and print in descending order..\n",
      "     Name  Age  Salary\n",
      "2  Dhaval   40   10000\n",
      "0    Arun   26   20000\n",
      "1   Varun   23   30000\n",
      "\n",
      "Sorting on Name and print in ascending order..\n",
      "     Name  Age  Salary\n",
      "0    Arun   26   20000\n",
      "2  Dhaval   40   10000\n",
      "1   Varun   23   30000\n"
     ]
    }
   ],
   "source": [
    "# Sorting Data in 1 column \n",
    "\n",
    "data = {\n",
    "    \"Name\" : ['Arun','Varun','Dhaval'],\n",
    "    \"Age\" : [26,23,40],\n",
    "    \"Salary\" :[20000,30000,10000]\n",
    "}\n",
    "\n",
    "df = pd.DataFrame(data)\n",
    "print(\"Before Sorting..\")\n",
    "print(df)\n",
    "print()\n",
    "\n",
    "print(\"Sorting on age and print in ascending order..\")\n",
    "df.sort_values(by=\"Age\",ascending=True,inplace=True)\n",
    "print(df)\n",
    "print()\n",
    "\n",
    "print(\"Sorting on Salary and print in descending order..\")\n",
    "df.sort_values(by=\"Salary\",ascending=True,inplace=True)\n",
    "print(df)\n",
    "print()\n",
    "\n",
    "print(\"Sorting on Name and print in ascending order..\")\n",
    "df.sort_values(by=\"Name\",ascending=True,inplace=True)\n",
    "print(df)"
   ]
  },
  {
   "cell_type": "markdown",
   "metadata": {},
   "source": []
  },
  {
   "cell_type": "markdown",
   "metadata": {},
   "source": [
    "#### Syntax :  sort_value(by=[\"columnName1\",\"ColumnName2\"], ascending = [True/False , True/False] , inplace = True)  \n",
    "\n",
    "##### Here we have to pass true or false for each ColumnName which we are writting in by= .\n",
    "##### Here, True is for ascending order sorting and false for descending order sorting"
   ]
  },
  {
   "cell_type": "code",
   "execution_count": 13,
   "metadata": {},
   "outputs": [
    {
     "name": "stdout",
     "output_type": "stream",
     "text": [
      "Before Sorting..\n",
      "     Name  Age  Salary\n",
      "0    Arun   26   20000\n",
      "1   Varun   23   30000\n",
      "2  Dhaval   40   10000\n",
      "\n",
      "After sorting on Age and Salary :->..\n",
      "\n",
      "     Name  Age  Salary\n",
      "1   Varun   23   30000\n",
      "0    Arun   26   20000\n",
      "2  Dhaval   40   10000\n"
     ]
    }
   ],
   "source": [
    "# Sorting On multiple Data\n",
    "\n",
    "data = {\n",
    "    \"Name\" : ['Arun','Varun','Dhaval'],\n",
    "    \"Age\" : [26,23,40],\n",
    "    \"Salary\" :[20000,30000,10000]\n",
    "}\n",
    "\n",
    "df = pd.DataFrame(data)\n",
    "print(\"Before Sorting..\")\n",
    "print(df)\n",
    "print()\n",
    "\n",
    "df.sort_values(by=[\"Age\",\"Salary\"],ascending=[True , False],inplace=True)\n",
    "print(\"After sorting on Age and Salary :->..\\n\")\n",
    "print(df)"
   ]
  },
  {
   "cell_type": "markdown",
   "metadata": {},
   "source": [
    "### Aggregation\n",
    "\n",
    "##### Common Aggregation function\n",
    "\n",
    "##### sum() : Sum of all value\n",
    "\n",
    "##### mean() : Calculate Average Value\n",
    "\n",
    "##### count() : Count non NaN Value\n",
    "\n",
    "##### min() : Find Minimum Value from group\n",
    "\n",
    "##### max() : Find Maximum Value from group\n",
    "\n",
    "##### std() : Calculate standerd daviation   :-> The standard deviation is defined as the deviation of the values or data from an average mean. Lower standard deviation concludes that the values are very close to their average. Whereas higher values mean the values are far from the mean value."
   ]
  },
  {
   "cell_type": "code",
   "execution_count": 16,
   "metadata": {},
   "outputs": [
    {
     "name": "stdout",
     "output_type": "stream",
     "text": [
      "     Name  Age  Salary\n",
      "0    Arun   26   20000\n",
      "1   Varun   23   30000\n",
      "2  Dhaval   40   10000\n",
      "\n",
      "Average Salary is  20000.0\n",
      "Minimum Age is  23\n",
      "Sum of Salary is  60000\n",
      "Maximum Age is  40\n"
     ]
    }
   ],
   "source": [
    "# mean, sum, max, min\n",
    "\n",
    "data = {\n",
    "    \"Name\" : ['Arun','Varun','Dhaval'],\n",
    "    \"Age\" : [26,23,40],\n",
    "    \"Salary\" :[20000,30000,10000]\n",
    "}\n",
    "\n",
    "df = pd.DataFrame(data)\n",
    "print(df)\n",
    "print()\n",
    "\n",
    "avg_salary = df[\"Salary\"].mean()\n",
    "print(\"Average Salary is \",avg_salary)\n",
    "\n",
    "min_age = df[\"Age\"].min()\n",
    "print(\"Minimum Age is \",min_age)\n",
    "\n",
    "sum_salary = df[\"Salary\"].sum()\n",
    "print(\"Sum of Salary is \",sum_salary)\n",
    "\n",
    "max_age = df[\"Age\"].max()\n",
    "print(\"Maximum Age is \",max_age)"
   ]
  },
  {
   "cell_type": "code",
   "execution_count": null,
   "metadata": {},
   "outputs": [],
   "source": []
  }
 ],
 "metadata": {
  "kernelspec": {
   "display_name": "Python 3",
   "language": "python",
   "name": "python3"
  },
  "language_info": {
   "codemirror_mode": {
    "name": "ipython",
    "version": 3
   },
   "file_extension": ".py",
   "mimetype": "text/x-python",
   "name": "python",
   "nbconvert_exporter": "python",
   "pygments_lexer": "ipython3",
   "version": "3.8.10"
  }
 },
 "nbformat": 4,
 "nbformat_minor": 2
}
