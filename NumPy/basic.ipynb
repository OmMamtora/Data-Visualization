{
 "cells": [
  {
   "cell_type": "markdown",
   "metadata": {},
   "source": [
    "## NumPy and Arrays Basics"
   ]
  },
  {
   "cell_type": "code",
   "execution_count": 2,
   "metadata": {},
   "outputs": [],
   "source": [
    "import numpy as np"
   ]
  },
  {
   "cell_type": "markdown",
   "metadata": {},
   "source": [
    "#### Creating array from List"
   ]
  },
  {
   "cell_type": "code",
   "execution_count": null,
   "metadata": {},
   "outputs": [
    {
     "name": "stdout",
     "output_type": "stream",
     "text": [
      "1D array :->  [1 2 3 4 5 6]\n",
      "2D array ;->  [[1 2 3]\n",
      " [4 5 6]]\n"
     ]
    }
   ],
   "source": [
    "arr_1d = np.array([1,2,3,4,5,6])\n",
    "print(\"1D array :-> \",arr_1d)\n",
    "\n",
    "arr_2d = np.array([[1,2,3],[4,5,6]])\n",
    "print(\"2D array ;-> \",arr_2d)"
   ]
  },
  {
   "cell_type": "markdown",
   "metadata": {},
   "source": [
    "### List vs Numpy array"
   ]
  },
  {
   "cell_type": "code",
   "execution_count": 7,
   "metadata": {},
   "outputs": [
    {
     "name": "stdout",
     "output_type": "stream",
     "text": [
      "Python Multiplications  [1, 5, 9, 1, 5, 9]\n",
      "Python array multiplications  [2 4 6]\n"
     ]
    }
   ],
   "source": [
    "py_list = [1,5,9]\n",
    "print(\"Python Multiplications \",py_list * 2)\n",
    "\n",
    "np_array = np.array([1,2,3])\n",
    "print(\"Python array multiplications \",np_array * 2)\n",
    "\n"
   ]
  },
  {
   "cell_type": "code",
   "execution_count": 12,
   "metadata": {},
   "outputs": [
    {
     "name": "stdout",
     "output_type": "stream",
     "text": [
      "\n",
      " List Operation time  0.1449441909790039\n",
      "\n",
      " Array Operation time  0.016813039779663086\n"
     ]
    }
   ],
   "source": [
    "import time\n",
    "\n",
    "#operation time for List\n",
    "start = time.time()\n",
    "py_list = [i*2 for i in range(1000000)]\n",
    "print(\"\\n List Operation time \",time.time()- start)\n",
    "\n",
    "#Operation time for Array\n",
    "np_start = time.time()\n",
    "np_array = np.arange(1000000) * 2\n",
    "print(\"\\n Array Operation time \",time.time()- np_start)\n"
   ]
  },
  {
   "cell_type": "markdown",
   "metadata": {},
   "source": [
    "### Creating Array from scratch"
   ]
  },
  {
   "cell_type": "code",
   "execution_count": 23,
   "metadata": {},
   "outputs": [
    {
     "name": "stdout",
     "output_type": "stream",
     "text": [
      "0's array\n",
      " [[0. 0. 0. 0.]\n",
      " [0. 0. 0. 0.]\n",
      " [0. 0. 0. 0.]]\n",
      "\n",
      "1's array\n",
      " [[1. 1. 1.]\n",
      " [1. 1. 1.]]\n",
      "\n",
      "Full array\n",
      " [[5 5]\n",
      " [5 5]\n",
      " [5 5]]\n",
      "\n",
      "Random Array\n",
      " [[0.00429364 0.15476276 0.235266  ]\n",
      " [0.41908656 0.95527368 0.72901802]]\n",
      "\n",
      "Sequence Array\n",
      " [ 0  2  4  6  8 10]\n"
     ]
    }
   ],
   "source": [
    "zeros = np.zeros((3,4))\n",
    "print(\"0's array\\n\",zeros)\n",
    "\n",
    "print()\n",
    "\n",
    "ones = np.ones((2,3))\n",
    "print(\"1's array\\n\",ones)\n",
    "\n",
    "print()\n",
    "\n",
    "#if we want array of particular value then,\n",
    "full = np.full((3,2),5)\n",
    "print(\"Full array\\n\",full)\n",
    "\n",
    "print()\n",
    "\n",
    "#If we want random number array then,\n",
    "random = np.random.random((2,3))\n",
    "print(\"Random Array\\n\",random)\n",
    "\n",
    "print()\n",
    "\n",
    "sequence = np.arange(0, 11, 2)\n",
    "print(\"Sequence Array\\n\",sequence)"
   ]
  },
  {
   "cell_type": "markdown",
   "metadata": {},
   "source": [
    "### Vector, Matrix, Tensor"
   ]
  },
  {
   "cell_type": "code",
   "execution_count": 27,
   "metadata": {},
   "outputs": [
    {
     "name": "stdout",
     "output_type": "stream",
     "text": [
      "Vector \n",
      " [1 2 3 4 5]\n",
      "\n",
      "Matrix \n",
      " [[1 2 3]\n",
      " [4 5 6]]\n",
      "\n",
      "Tensor \n",
      " [[[ 1  2  3]\n",
      "  [ 4  5  6]]\n",
      "\n",
      " [[10 11 12]\n",
      "  [13 14 15]]]\n"
     ]
    }
   ],
   "source": [
    "vector = np.array([1,2,3,4,5])\n",
    "print(\"Vector \\n\",vector)\n",
    "\n",
    "print()\n",
    "\n",
    "matrix = np.array([[1,2,3],\n",
    "                   [4,5,6]])\n",
    "print(\"Matrix \\n\",matrix)\n",
    "\n",
    "print()\n",
    "\n",
    "tensor = np.array([[[1,2,3],[4,5,6]],\n",
    "                   [[10,11,12],[13,14,15]]])\n",
    "print(\"Tensor \\n\",tensor)"
   ]
  },
  {
   "cell_type": "markdown",
   "metadata": {},
   "source": [
    "### Array Properties"
   ]
  },
  {
   "cell_type": "code",
   "execution_count": null,
   "metadata": {},
   "outputs": [
    {
     "name": "stdout",
     "output_type": "stream",
     "text": [
      "Shape of Array -> (2, 3)\n",
      "Dimension of Array -> 2\n",
      "Size of Array -> 6\n",
      "Data Type -> int64\n"
     ]
    }
   ],
   "source": [
    "arr = np.array([[1,2,3],\n",
    "                [4,5,6]])\n",
    "\n",
    "print(\"Shape of Array ->\",arr.shape)\n",
    "print(\"Dimension of Array ->\",arr.ndim)\n",
    "print(\"Size of Array ->\",arr.size)\n",
    "print(\"Data Type ->\",arr.dtype)"
   ]
  },
  {
   "cell_type": "markdown",
   "metadata": {},
   "source": [
    "### Array Reshaping"
   ]
  },
  {
   "cell_type": "code",
   "execution_count": 55,
   "metadata": {},
   "outputs": [
    {
     "name": "stdout",
     "output_type": "stream",
     "text": [
      "Original Array  [ 0  1  2  3  4  5  6  7  8  9 10 11]\n",
      "\n",
      "Reshaped Array \n",
      " [[ 0  1  2  3]\n",
      " [ 4  5  6  7]\n",
      " [ 8  9 10 11]]\n",
      "\n",
      "Flattened Array  [ 0  1  2  3  4  5  6  7  8  9 10 11]\n",
      "\n",
      "Raveled Array  [ 0  1  2  3  4  5  6  7  8  9 10 11]\n",
      "\n",
      "Transpose Array \n",
      " [[ 0  4  8]\n",
      " [ 1  5  9]\n",
      " [ 2  6 10]\n",
      " [ 3  7 11]]\n"
     ]
    }
   ],
   "source": [
    "arr = np.arange(12)\n",
    "print(\"Original Array \",arr)\n",
    "\n",
    "print()\n",
    "\n",
    "#Reshaped array is use for shaping array\n",
    "reshaped = arr.reshape((3,4))\n",
    "print(\"Reshaped Array \\n\",reshaped)\n",
    "\n",
    "print()\n",
    "\n",
    "#if we have array in matrix format and we want in vector \n",
    "flattened = reshaped.flatten()\n",
    "print(\"Flattened Array \",flattened)\n",
    "\n",
    "print()\n",
    "\n",
    "# Ravel (returns view, instead of copy)\n",
    "raveled = reshaped.ravel()\n",
    "print(\"Raveled Array \",raveled)\n",
    "\n",
    "print()\n",
    "\n",
    "# Transpose\n",
    "transpose = reshaped.T\n",
    "print(\"Transpose Array \\n\",transpose)"
   ]
  },
  {
   "cell_type": "code",
   "execution_count": null,
   "metadata": {},
   "outputs": [],
   "source": []
  }
 ],
 "metadata": {
  "kernelspec": {
   "display_name": "venv",
   "language": "python",
   "name": "python3"
  },
  "language_info": {
   "codemirror_mode": {
    "name": "ipython",
    "version": 3
   },
   "file_extension": ".py",
   "mimetype": "text/x-python",
   "name": "python",
   "nbconvert_exporter": "python",
   "pygments_lexer": "ipython3",
   "version": "3.8.10"
  }
 },
 "nbformat": 4,
 "nbformat_minor": 2
}
