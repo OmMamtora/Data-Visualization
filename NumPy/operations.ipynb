{
 "cells": [
  {
   "cell_type": "markdown",
   "metadata": {},
   "source": [
    "### NumPy Array Operations"
   ]
  },
  {
   "cell_type": "code",
   "execution_count": 21,
   "metadata": {},
   "outputs": [],
   "source": [
    "import numpy as np"
   ]
  },
  {
   "cell_type": "markdown",
   "metadata": {},
   "source": [
    "#### Array Slicing"
   ]
  },
  {
   "cell_type": "code",
   "execution_count": 14,
   "metadata": {},
   "outputs": [
    {
     "name": "stdout",
     "output_type": "stream",
     "text": [
      "Basic Slicing  [3 4 5 6 7 8 9]\n",
      "Basic Slicing  [3 4 5 6 7 8 9]\n",
      "with Step  [2 4 6 8]\n",
      "Negative Slicing  5\n",
      "Negative Slicing  [7 8 9]\n",
      "Negative Slicing  [2 3 4 5 6 7]\n",
      "Negative Slicing  [2 4 6]\n"
     ]
    }
   ],
   "source": [
    "arr = np.array([1,2,3,4,5,6,7,8,9])\n",
    "\n",
    "print(\"Basic Slicing \",arr[2:9])\n",
    "print(\"Basic Slicing \",arr[2:])\n",
    "\n",
    "print(\"with Step \",arr[1:8:2])\n",
    "\n",
    "print(\"Negative Slicing \",arr[-5])\n",
    "print(\"Negative Slicing \",arr[-3:])\n",
    "print(\"Negative Slicing \",arr[-8:-2])\n",
    "print(\"Negative Slicing \",arr[-8:-2:2])"
   ]
  },
  {
   "cell_type": "code",
   "execution_count": 20,
   "metadata": {},
   "outputs": [
    {
     "name": "stdout",
     "output_type": "stream",
     "text": [
      "Specific Element  8\n",
      "Entire row  [4 5 6]\n",
      "Entire column  [2 5 8]\n"
     ]
    }
   ],
   "source": [
    "arr_2d = np.array([[1,2,3],\n",
    "                   [4,5,6],\n",
    "                   [7,8,9]])\n",
    "\n",
    "print(\"Specific Element \",arr_2d[2][1])\n",
    "print(\"Entire row \",arr_2d[1])\n",
    "print(\"Entire column \",arr_2d[:,1])\n"
   ]
  },
  {
   "cell_type": "markdown",
   "metadata": {},
   "source": [
    "## Sorting"
   ]
  },
  {
   "cell_type": "code",
   "execution_count": null,
   "metadata": {},
   "outputs": [
    {
     "name": "stdout",
     "output_type": "stream",
     "text": [
      "Unsorted array  [2 5 3 1 4 2 9 7 4]\n",
      "Sorted array  [1 2 2 3 4 4 5 7 9]\n",
      "Sorted 2D array by column \n",
      " [[2 2 2]\n",
      " [5 3 6]\n",
      " [7 3 9]]\n"
     ]
    }
   ],
   "source": [
    "unsorted = np.array([2,5,3,1,4,2,9,7,4])\n",
    "print(\"Unsorted array \",unsorted)\n",
    "\n",
    "#Sorted array\n",
    "print(\"Sorted array \",np.sort(unsorted))\n",
    "\n",
    "\n",
    "#Unsorted 2D Array\n",
    "arr_2_unsorted = np.array([[5,3,2],\n",
    "                           [7,2,6],\n",
    "                           [2,3,9]])\n",
    "print(\"Sorted 2D array by column \\n\",np.sort(arr_2_unsorted,axis=0))\n",
    "\n",
    "#axis=0 is row\n",
    "#axis=1 is column"
   ]
  },
  {
   "cell_type": "markdown",
   "metadata": {},
   "source": [
    "### Filter Array"
   ]
  },
  {
   "cell_type": "code",
   "execution_count": 41,
   "metadata": {},
   "outputs": [
    {
     "name": "stdout",
     "output_type": "stream",
     "text": [
      "Even Numbers  [ 2  4  6  8 10]\n"
     ]
    }
   ],
   "source": [
    "numbers = np.array([1,2,3,4,5,6,7,8,9,10])\n",
    "\n",
    "even_numbers = numbers[numbers % 2 == 0]\n",
    "print(\"Even Numbers \",even_numbers)"
   ]
  },
  {
   "cell_type": "markdown",
   "metadata": {},
   "source": [
    "### Filter with Mask"
   ]
  },
  {
   "cell_type": "code",
   "execution_count": 43,
   "metadata": {},
   "outputs": [
    {
     "name": "stdout",
     "output_type": "stream",
     "text": [
      "Number Greater than 5 is [ 6  7  8  9 10]\n"
     ]
    }
   ],
   "source": [
    "mask = numbers > 5\n",
    "print(\"Number Greater than 5 is\",numbers[mask])"
   ]
  },
  {
   "cell_type": "markdown",
   "metadata": {},
   "source": [
    "## Indexing and np.where()"
   ]
  },
  {
   "cell_type": "code",
   "execution_count": null,
   "metadata": {},
   "outputs": [
    {
     "name": "stdout",
     "output_type": "stream",
     "text": [
      "[1 3 5]\n",
      "(array([5, 6, 7, 8, 9]),)\n",
      "NP where  [ 6  7  8  9 10]\n"
     ]
    }
   ],
   "source": [
    "index_number = [0,2,4]\n",
    "print(numbers[index_number])\n",
    "\n",
    "where_result = np.where(numbers > 5)\n",
    "\n",
    "# print(where_result)     Output :-> (array([5, 6, 7, 8, 9]),)\n",
    "print(\"NP where \",numbers[where_result])"
   ]
  },
  {
   "cell_type": "code",
   "execution_count": null,
   "metadata": {},
   "outputs": [
    {
     "name": "stdout",
     "output_type": "stream",
     "text": [
      "(array([5, 6, 7, 8, 9]),)\n",
      "[ 1  2  3  4  5 24 28 32 36 40]\n",
      "[[ 1  2  3  4  5]\n",
      " [24 28 32 36 40]]\n",
      "['false' 'false' 'false' 'false' 'false' 'true' 'true' 'true' 'true'\n",
      " 'true']\n"
     ]
    },
    {
     "data": {
      "text/plain": [
       "'\\n    How Where cluse work:\\n\\n    if(condition){\\n    }\\n    else{\\n    }\\n\\n    Here:->\\n    if(numbers > 5){\\n        numbers*4\\n    }else{\\n        number\\n    }\\n\\n    OUTPUT :-> [ 1  2  3  4  5 24 28 32 36 40]\\n    Here we can clearly seen that the numver which is less than 5 it is same and \\n    the number which is greater than 5 it is multiplying with 4\\n'"
      ]
     },
     "execution_count": 93,
     "metadata": {},
     "output_type": "execute_result"
    }
   ],
   "source": [
    "condition_arr1 = np.where(numbers > 5)\n",
    "print(condition_arr1)\n",
    "\n",
    "condition_arr2 = np.where(numbers > 5 , numbers*4 , numbers)\n",
    "print(condition_arr2)\n",
    "# reshaped = condition_arr2.reshape((2,5))\n",
    "# print(reshaped)\n",
    "\n",
    "condition_arr3 = np.where(numbers > 5 , \"true\" , \"false\")\n",
    "print(condition_arr3)\n",
    "\n",
    "\n",
    "'''\n",
    "    How Where cluse work:\n",
    "\n",
    "    if(condition){\n",
    "    }\n",
    "    else{\n",
    "    }\n",
    "\n",
    "    Here:->\n",
    "    if(numbers > 5){\n",
    "        numbers*4\n",
    "    }else{\n",
    "        number\n",
    "    }\n",
    "\n",
    "    OUTPUT :-> [ 1  2  3  4  5 24 28 32 36 40]\n",
    "    Here we can clearly seen that the numver which is less than 5 it is same and \n",
    "    the number which is greater than 5 it is multiplying with 4\n",
    "'''\n"
   ]
  },
  {
   "cell_type": "markdown",
   "metadata": {},
   "source": [
    "### Adding and Removing Data"
   ]
  },
  {
   "cell_type": "code",
   "execution_count": null,
   "metadata": {},
   "outputs": [
    {
     "name": "stdout",
     "output_type": "stream",
     "text": [
      "[1 2 3 4 5 6]\n"
     ]
    }
   ],
   "source": [
    "#concatenate is used for combaine two or more array\n",
    "\n",
    "arr1 = np.array([1,2,3])\n",
    "arr2 = np.array([4,5,6])\n",
    "#arr3 = np.array([7,8,9])\n",
    "\n",
    "combained = np.concatenate((arr1,arr2))   #OUTPUT:-> [1 2 3 4 5 6]\n",
    "\n",
    "#combained = np.concatenate((arr1,arr2,arr3))  OUTPUT:-> [1 2 3 4 5 6 7 8 9]\n",
    "print(combained)"
   ]
  },
  {
   "cell_type": "markdown",
   "metadata": {},
   "source": [
    "### Array Compatibility"
   ]
  },
  {
   "cell_type": "code",
   "execution_count": 68,
   "metadata": {},
   "outputs": [
    {
     "name": "stdout",
     "output_type": "stream",
     "text": [
      "Compatibility shapes  True\n",
      "Compatibility shapes  False\n"
     ]
    }
   ],
   "source": [
    "arr1 = np.array([1,2,3])\n",
    "arr2 = np.array([4,5,6])\n",
    "arr3 = np.array([7,8,9,10])\n",
    "\n",
    "print(\"Compatibility shapes \", arr1.shape == arr2.shape)\n",
    "print(\"Compatibility shapes \", arr1.shape == arr3.shape)"
   ]
  },
  {
   "cell_type": "code",
   "execution_count": null,
   "metadata": {},
   "outputs": [
    {
     "name": "stdout",
     "output_type": "stream",
     "text": [
      "Original array\n",
      " [[1 2]\n",
      " [3 4]]\n",
      "After adding new row\n",
      " [[1 2]\n",
      " [3 4]\n",
      " [5 6]]\n",
      "\n",
      "Original array\n",
      " [[1 2]\n",
      " [3 4]]\n",
      "After adding new column\n",
      " [[1 2 5]\n",
      " [3 4 6]]\n"
     ]
    }
   ],
   "source": [
    "original = np.array([[1,2],\n",
    "                     [3,4]])\n",
    "new_row = np.array([5,6])\n",
    "\n",
    "with_new_row = np.vstack((original, new_row))\n",
    "print(\"Original array\\n\",original)\n",
    "print(\"After adding new row\\n\",with_new_row)\n",
    "\n",
    "print()\n",
    "\n",
    "new_column = np.array([[5],[6]])\n",
    "with_new_column = np.hstack((original,new_column))\n",
    "print(\"Original array\\n\",original)\n",
    "print(\"After adding new column\\n\", with_new_column)\n",
    "\n",
    "\n"
   ]
  },
  {
   "cell_type": "code",
   "execution_count": null,
   "metadata": {},
   "outputs": [
    {
     "name": "stdout",
     "output_type": "stream",
     "text": [
      "[1 2 4]\n",
      "Flatten index [1 2 3 4 5 6]\n",
      "After Deleting value [1 2 3 5 6]\n"
     ]
    }
   ],
   "source": [
    "arr1 = np.array([1,2,3,4,5])\n",
    "\n",
    "deleted = np.delete(arr1,arr1[1:4:2])\n",
    "\n",
    "# deleted = np.delete(arr1, 2)         # Output :-> [1 2 4 5]\n",
    "# deleted = np.delete(arr1,arr1[2:4])  # Output :-> [1 2 3]\n",
    "# deleted = np.delete(arr1,arr1[:4])   # Output :-> [1]\n",
    "\n",
    "# deleted = np.delete(arr1,arr1[-1])   # This is not working this raise error IndexError\n",
    "print(deleted)\n",
    "\n",
    "\n",
    "#On 2D array delete value on particular place\n",
    "\n",
    "arr2 = np.array([[1,2,3],[4,5,6]])\n",
    "\n",
    "flatten_index = arr2.flatten()\n",
    "print(\"Flatten index\",flatten_index)\n",
    "\n",
    "delete = np.delete(arr2,3)\n",
    "print(\"After Deleting value\",delete)\n",
    "\n",
    "# Here we are converting 2D array into vector(Flatten Array) and after that we are \n",
    "# deleting value."
   ]
  },
  {
   "cell_type": "code",
   "execution_count": null,
   "metadata": {},
   "outputs": [],
   "source": []
  }
 ],
 "metadata": {
  "kernelspec": {
   "display_name": "venv",
   "language": "python",
   "name": "python3"
  },
  "language_info": {
   "codemirror_mode": {
    "name": "ipython",
    "version": 3
   },
   "file_extension": ".py",
   "mimetype": "text/x-python",
   "name": "python",
   "nbconvert_exporter": "python",
   "pygments_lexer": "ipython3",
   "version": "3.8.10"
  }
 },
 "nbformat": 4,
 "nbformat_minor": 2
}
